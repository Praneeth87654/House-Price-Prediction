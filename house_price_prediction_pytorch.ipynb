{
  "cells": [
    {
      "cell_type": "code",
      "execution_count": 1,
      "metadata": {
        "id": "QyybgxsicUTW"
      },
      "outputs": [],
      "source": [
        "import pandas as pd\n",
        "import numpy as np"
      ]
    },
    {
      "cell_type": "code",
      "execution_count": 2,
      "metadata": {
        "id": "Eafsxllucl4L"
      },
      "outputs": [],
      "source": [
        "df=pd.read_csv('houseprice.csv',usecols=[\"SalePrice\", \"MSSubClass\", \"MSZoning\", \"LotFrontage\", \"LotArea\", \"Street\", \"YearBuilt\", \"LotShape\", \"1stFlrSF\", \"2ndFlrSF\"]).dropna()"
      ]
    },
    {
      "cell_type": "code",
      "execution_count": 3,
      "metadata": {
        "colab": {
          "base_uri": "https://localhost:8080/",
          "height": 206
        },
        "id": "gHJQKYK2dTK9",
        "outputId": "492e7a4b-9d7c-443a-9fc1-10f09538d327"
      },
      "outputs": [
        {
          "data": {
            "application/vnd.google.colaboratory.intrinsic+json": {
              "summary": "{\n  \"name\": \"df\",\n  \"rows\": 1201,\n  \"fields\": [\n    {\n      \"column\": \"MSSubClass\",\n      \"properties\": {\n        \"dtype\": \"number\",\n        \"std\": 43,\n        \"min\": 20,\n        \"max\": 190,\n        \"num_unique_values\": 15,\n        \"samples\": [\n          80,\n          75,\n          60\n        ],\n        \"semantic_type\": \"\",\n        \"description\": \"\"\n      }\n    },\n    {\n      \"column\": \"MSZoning\",\n      \"properties\": {\n        \"dtype\": \"category\",\n        \"num_unique_values\": 5,\n        \"samples\": [\n          \"RM\",\n          \"RH\",\n          \"C (all)\"\n        ],\n        \"semantic_type\": \"\",\n        \"description\": \"\"\n      }\n    },\n    {\n      \"column\": \"LotFrontage\",\n      \"properties\": {\n        \"dtype\": \"number\",\n        \"std\": 24.284751774483208,\n        \"min\": 21.0,\n        \"max\": 313.0,\n        \"num_unique_values\": 110,\n        \"samples\": [\n          150.0,\n          91.0,\n          84.0\n        ],\n        \"semantic_type\": \"\",\n        \"description\": \"\"\n      }\n    },\n    {\n      \"column\": \"LotArea\",\n      \"properties\": {\n        \"dtype\": \"number\",\n        \"std\": 7924,\n        \"min\": 1300,\n        \"max\": 215245,\n        \"num_unique_values\": 869,\n        \"samples\": [\n          11198,\n          4500,\n          8544\n        ],\n        \"semantic_type\": \"\",\n        \"description\": \"\"\n      }\n    },\n    {\n      \"column\": \"Street\",\n      \"properties\": {\n        \"dtype\": \"category\",\n        \"num_unique_values\": 2,\n        \"samples\": [\n          \"Grvl\",\n          \"Pave\"\n        ],\n        \"semantic_type\": \"\",\n        \"description\": \"\"\n      }\n    },\n    {\n      \"column\": \"LotShape\",\n      \"properties\": {\n        \"dtype\": \"category\",\n        \"num_unique_values\": 4,\n        \"samples\": [\n          \"IR1\",\n          \"IR3\"\n        ],\n        \"semantic_type\": \"\",\n        \"description\": \"\"\n      }\n    },\n    {\n      \"column\": \"YearBuilt\",\n      \"properties\": {\n        \"dtype\": \"number\",\n        \"std\": 31,\n        \"min\": 1872,\n        \"max\": 2010,\n        \"num_unique_values\": 112,\n        \"samples\": [\n          1968,\n          1987\n        ],\n        \"semantic_type\": \"\",\n        \"description\": \"\"\n      }\n    },\n    {\n      \"column\": \"1stFlrSF\",\n      \"properties\": {\n        \"dtype\": \"number\",\n        \"std\": 386,\n        \"min\": 334,\n        \"max\": 4692,\n        \"num_unique_values\": 678,\n        \"samples\": [\n          1334,\n          2020\n        ],\n        \"semantic_type\": \"\",\n        \"description\": \"\"\n      }\n    },\n    {\n      \"column\": \"2ndFlrSF\",\n      \"properties\": {\n        \"dtype\": \"number\",\n        \"std\": 435,\n        \"min\": 0,\n        \"max\": 2065,\n        \"num_unique_values\": 368,\n        \"samples\": [\n          707,\n          639\n        ],\n        \"semantic_type\": \"\",\n        \"description\": \"\"\n      }\n    },\n    {\n      \"column\": \"SalePrice\",\n      \"properties\": {\n        \"dtype\": \"number\",\n        \"std\": 83389,\n        \"min\": 34900,\n        \"max\": 755000,\n        \"num_unique_values\": 597,\n        \"samples\": [\n          372402,\n          395192\n        ],\n        \"semantic_type\": \"\",\n        \"description\": \"\"\n      }\n    }\n  ]\n}",
              "type": "dataframe",
              "variable_name": "df"
            },
            "text/html": [
              "\n",
              "  <div id=\"df-5f9220c7-3b14-4035-ba62-7dda1b932afc\" class=\"colab-df-container\">\n",
              "    <div>\n",
              "<style scoped>\n",
              "    .dataframe tbody tr th:only-of-type {\n",
              "        vertical-align: middle;\n",
              "    }\n",
              "\n",
              "    .dataframe tbody tr th {\n",
              "        vertical-align: top;\n",
              "    }\n",
              "\n",
              "    .dataframe thead th {\n",
              "        text-align: right;\n",
              "    }\n",
              "</style>\n",
              "<table border=\"1\" class=\"dataframe\">\n",
              "  <thead>\n",
              "    <tr style=\"text-align: right;\">\n",
              "      <th></th>\n",
              "      <th>MSSubClass</th>\n",
              "      <th>MSZoning</th>\n",
              "      <th>LotFrontage</th>\n",
              "      <th>LotArea</th>\n",
              "      <th>Street</th>\n",
              "      <th>LotShape</th>\n",
              "      <th>YearBuilt</th>\n",
              "      <th>1stFlrSF</th>\n",
              "      <th>2ndFlrSF</th>\n",
              "      <th>SalePrice</th>\n",
              "    </tr>\n",
              "  </thead>\n",
              "  <tbody>\n",
              "    <tr>\n",
              "      <th>0</th>\n",
              "      <td>60</td>\n",
              "      <td>RL</td>\n",
              "      <td>65.0</td>\n",
              "      <td>8450</td>\n",
              "      <td>Pave</td>\n",
              "      <td>Reg</td>\n",
              "      <td>2003</td>\n",
              "      <td>856</td>\n",
              "      <td>854</td>\n",
              "      <td>208500</td>\n",
              "    </tr>\n",
              "    <tr>\n",
              "      <th>1</th>\n",
              "      <td>20</td>\n",
              "      <td>RL</td>\n",
              "      <td>80.0</td>\n",
              "      <td>9600</td>\n",
              "      <td>Pave</td>\n",
              "      <td>Reg</td>\n",
              "      <td>1976</td>\n",
              "      <td>1262</td>\n",
              "      <td>0</td>\n",
              "      <td>181500</td>\n",
              "    </tr>\n",
              "    <tr>\n",
              "      <th>2</th>\n",
              "      <td>60</td>\n",
              "      <td>RL</td>\n",
              "      <td>68.0</td>\n",
              "      <td>11250</td>\n",
              "      <td>Pave</td>\n",
              "      <td>IR1</td>\n",
              "      <td>2001</td>\n",
              "      <td>920</td>\n",
              "      <td>866</td>\n",
              "      <td>223500</td>\n",
              "    </tr>\n",
              "    <tr>\n",
              "      <th>3</th>\n",
              "      <td>70</td>\n",
              "      <td>RL</td>\n",
              "      <td>60.0</td>\n",
              "      <td>9550</td>\n",
              "      <td>Pave</td>\n",
              "      <td>IR1</td>\n",
              "      <td>1915</td>\n",
              "      <td>961</td>\n",
              "      <td>756</td>\n",
              "      <td>140000</td>\n",
              "    </tr>\n",
              "    <tr>\n",
              "      <th>4</th>\n",
              "      <td>60</td>\n",
              "      <td>RL</td>\n",
              "      <td>84.0</td>\n",
              "      <td>14260</td>\n",
              "      <td>Pave</td>\n",
              "      <td>IR1</td>\n",
              "      <td>2000</td>\n",
              "      <td>1145</td>\n",
              "      <td>1053</td>\n",
              "      <td>250000</td>\n",
              "    </tr>\n",
              "  </tbody>\n",
              "</table>\n",
              "</div>\n",
              "    <div class=\"colab-df-buttons\">\n",
              "\n",
              "  <div class=\"colab-df-container\">\n",
              "    <button class=\"colab-df-convert\" onclick=\"convertToInteractive('df-5f9220c7-3b14-4035-ba62-7dda1b932afc')\"\n",
              "            title=\"Convert this dataframe to an interactive table.\"\n",
              "            style=\"display:none;\">\n",
              "\n",
              "  <svg xmlns=\"http://www.w3.org/2000/svg\" height=\"24px\" viewBox=\"0 -960 960 960\">\n",
              "    <path d=\"M120-120v-720h720v720H120Zm60-500h600v-160H180v160Zm220 220h160v-160H400v160Zm0 220h160v-160H400v160ZM180-400h160v-160H180v160Zm440 0h160v-160H620v160ZM180-180h160v-160H180v160Zm440 0h160v-160H620v160Z\"/>\n",
              "  </svg>\n",
              "    </button>\n",
              "\n",
              "  <style>\n",
              "    .colab-df-container {\n",
              "      display:flex;\n",
              "      gap: 12px;\n",
              "    }\n",
              "\n",
              "    .colab-df-convert {\n",
              "      background-color: #E8F0FE;\n",
              "      border: none;\n",
              "      border-radius: 50%;\n",
              "      cursor: pointer;\n",
              "      display: none;\n",
              "      fill: #1967D2;\n",
              "      height: 32px;\n",
              "      padding: 0 0 0 0;\n",
              "      width: 32px;\n",
              "    }\n",
              "\n",
              "    .colab-df-convert:hover {\n",
              "      background-color: #E2EBFA;\n",
              "      box-shadow: 0px 1px 2px rgba(60, 64, 67, 0.3), 0px 1px 3px 1px rgba(60, 64, 67, 0.15);\n",
              "      fill: #174EA6;\n",
              "    }\n",
              "\n",
              "    .colab-df-buttons div {\n",
              "      margin-bottom: 4px;\n",
              "    }\n",
              "\n",
              "    [theme=dark] .colab-df-convert {\n",
              "      background-color: #3B4455;\n",
              "      fill: #D2E3FC;\n",
              "    }\n",
              "\n",
              "    [theme=dark] .colab-df-convert:hover {\n",
              "      background-color: #434B5C;\n",
              "      box-shadow: 0px 1px 3px 1px rgba(0, 0, 0, 0.15);\n",
              "      filter: drop-shadow(0px 1px 2px rgba(0, 0, 0, 0.3));\n",
              "      fill: #FFFFFF;\n",
              "    }\n",
              "  </style>\n",
              "\n",
              "    <script>\n",
              "      const buttonEl =\n",
              "        document.querySelector('#df-5f9220c7-3b14-4035-ba62-7dda1b932afc button.colab-df-convert');\n",
              "      buttonEl.style.display =\n",
              "        google.colab.kernel.accessAllowed ? 'block' : 'none';\n",
              "\n",
              "      async function convertToInteractive(key) {\n",
              "        const element = document.querySelector('#df-5f9220c7-3b14-4035-ba62-7dda1b932afc');\n",
              "        const dataTable =\n",
              "          await google.colab.kernel.invokeFunction('convertToInteractive',\n",
              "                                                    [key], {});\n",
              "        if (!dataTable) return;\n",
              "\n",
              "        const docLinkHtml = 'Like what you see? Visit the ' +\n",
              "          '<a target=\"_blank\" href=https://colab.research.google.com/notebooks/data_table.ipynb>data table notebook</a>'\n",
              "          + ' to learn more about interactive tables.';\n",
              "        element.innerHTML = '';\n",
              "        dataTable['output_type'] = 'display_data';\n",
              "        await google.colab.output.renderOutput(dataTable, element);\n",
              "        const docLink = document.createElement('div');\n",
              "        docLink.innerHTML = docLinkHtml;\n",
              "        element.appendChild(docLink);\n",
              "      }\n",
              "    </script>\n",
              "  </div>\n",
              "\n",
              "\n",
              "<div id=\"df-1531e13e-d612-43e9-917c-97d5f58a007d\">\n",
              "  <button class=\"colab-df-quickchart\" onclick=\"quickchart('df-1531e13e-d612-43e9-917c-97d5f58a007d')\"\n",
              "            title=\"Suggest charts\"\n",
              "            style=\"display:none;\">\n",
              "\n",
              "<svg xmlns=\"http://www.w3.org/2000/svg\" height=\"24px\"viewBox=\"0 0 24 24\"\n",
              "     width=\"24px\">\n",
              "    <g>\n",
              "        <path d=\"M19 3H5c-1.1 0-2 .9-2 2v14c0 1.1.9 2 2 2h14c1.1 0 2-.9 2-2V5c0-1.1-.9-2-2-2zM9 17H7v-7h2v7zm4 0h-2V7h2v10zm4 0h-2v-4h2v4z\"/>\n",
              "    </g>\n",
              "</svg>\n",
              "  </button>\n",
              "\n",
              "<style>\n",
              "  .colab-df-quickchart {\n",
              "      --bg-color: #E8F0FE;\n",
              "      --fill-color: #1967D2;\n",
              "      --hover-bg-color: #E2EBFA;\n",
              "      --hover-fill-color: #174EA6;\n",
              "      --disabled-fill-color: #AAA;\n",
              "      --disabled-bg-color: #DDD;\n",
              "  }\n",
              "\n",
              "  [theme=dark] .colab-df-quickchart {\n",
              "      --bg-color: #3B4455;\n",
              "      --fill-color: #D2E3FC;\n",
              "      --hover-bg-color: #434B5C;\n",
              "      --hover-fill-color: #FFFFFF;\n",
              "      --disabled-bg-color: #3B4455;\n",
              "      --disabled-fill-color: #666;\n",
              "  }\n",
              "\n",
              "  .colab-df-quickchart {\n",
              "    background-color: var(--bg-color);\n",
              "    border: none;\n",
              "    border-radius: 50%;\n",
              "    cursor: pointer;\n",
              "    display: none;\n",
              "    fill: var(--fill-color);\n",
              "    height: 32px;\n",
              "    padding: 0;\n",
              "    width: 32px;\n",
              "  }\n",
              "\n",
              "  .colab-df-quickchart:hover {\n",
              "    background-color: var(--hover-bg-color);\n",
              "    box-shadow: 0 1px 2px rgba(60, 64, 67, 0.3), 0 1px 3px 1px rgba(60, 64, 67, 0.15);\n",
              "    fill: var(--button-hover-fill-color);\n",
              "  }\n",
              "\n",
              "  .colab-df-quickchart-complete:disabled,\n",
              "  .colab-df-quickchart-complete:disabled:hover {\n",
              "    background-color: var(--disabled-bg-color);\n",
              "    fill: var(--disabled-fill-color);\n",
              "    box-shadow: none;\n",
              "  }\n",
              "\n",
              "  .colab-df-spinner {\n",
              "    border: 2px solid var(--fill-color);\n",
              "    border-color: transparent;\n",
              "    border-bottom-color: var(--fill-color);\n",
              "    animation:\n",
              "      spin 1s steps(1) infinite;\n",
              "  }\n",
              "\n",
              "  @keyframes spin {\n",
              "    0% {\n",
              "      border-color: transparent;\n",
              "      border-bottom-color: var(--fill-color);\n",
              "      border-left-color: var(--fill-color);\n",
              "    }\n",
              "    20% {\n",
              "      border-color: transparent;\n",
              "      border-left-color: var(--fill-color);\n",
              "      border-top-color: var(--fill-color);\n",
              "    }\n",
              "    30% {\n",
              "      border-color: transparent;\n",
              "      border-left-color: var(--fill-color);\n",
              "      border-top-color: var(--fill-color);\n",
              "      border-right-color: var(--fill-color);\n",
              "    }\n",
              "    40% {\n",
              "      border-color: transparent;\n",
              "      border-right-color: var(--fill-color);\n",
              "      border-top-color: var(--fill-color);\n",
              "    }\n",
              "    60% {\n",
              "      border-color: transparent;\n",
              "      border-right-color: var(--fill-color);\n",
              "    }\n",
              "    80% {\n",
              "      border-color: transparent;\n",
              "      border-right-color: var(--fill-color);\n",
              "      border-bottom-color: var(--fill-color);\n",
              "    }\n",
              "    90% {\n",
              "      border-color: transparent;\n",
              "      border-bottom-color: var(--fill-color);\n",
              "    }\n",
              "  }\n",
              "</style>\n",
              "\n",
              "  <script>\n",
              "    async function quickchart(key) {\n",
              "      const quickchartButtonEl =\n",
              "        document.querySelector('#' + key + ' button');\n",
              "      quickchartButtonEl.disabled = true;  // To prevent multiple clicks.\n",
              "      quickchartButtonEl.classList.add('colab-df-spinner');\n",
              "      try {\n",
              "        const charts = await google.colab.kernel.invokeFunction(\n",
              "            'suggestCharts', [key], {});\n",
              "      } catch (error) {\n",
              "        console.error('Error during call to suggestCharts:', error);\n",
              "      }\n",
              "      quickchartButtonEl.classList.remove('colab-df-spinner');\n",
              "      quickchartButtonEl.classList.add('colab-df-quickchart-complete');\n",
              "    }\n",
              "    (() => {\n",
              "      let quickchartButtonEl =\n",
              "        document.querySelector('#df-1531e13e-d612-43e9-917c-97d5f58a007d button');\n",
              "      quickchartButtonEl.style.display =\n",
              "        google.colab.kernel.accessAllowed ? 'block' : 'none';\n",
              "    })();\n",
              "  </script>\n",
              "</div>\n",
              "    </div>\n",
              "  </div>\n"
            ],
            "text/plain": [
              "   MSSubClass MSZoning  LotFrontage  LotArea Street LotShape  YearBuilt  \\\n",
              "0          60       RL         65.0     8450   Pave      Reg       2003   \n",
              "1          20       RL         80.0     9600   Pave      Reg       1976   \n",
              "2          60       RL         68.0    11250   Pave      IR1       2001   \n",
              "3          70       RL         60.0     9550   Pave      IR1       1915   \n",
              "4          60       RL         84.0    14260   Pave      IR1       2000   \n",
              "\n",
              "   1stFlrSF  2ndFlrSF  SalePrice  \n",
              "0       856       854     208500  \n",
              "1      1262         0     181500  \n",
              "2       920       866     223500  \n",
              "3       961       756     140000  \n",
              "4      1145      1053     250000  "
            ]
          },
          "execution_count": 3,
          "metadata": {},
          "output_type": "execute_result"
        }
      ],
      "source": [
        "df.head()"
      ]
    },
    {
      "cell_type": "code",
      "execution_count": 4,
      "metadata": {
        "colab": {
          "base_uri": "https://localhost:8080/"
        },
        "id": "N3L9jKqNdUbQ",
        "outputId": "d56c7cb1-1656-4eac-ce55-1742cef28f51"
      },
      "outputs": [
        {
          "data": {
            "text/plain": [
              "(1201, 10)"
            ]
          },
          "execution_count": 4,
          "metadata": {},
          "output_type": "execute_result"
        }
      ],
      "source": [
        "df.shape"
      ]
    },
    {
      "cell_type": "code",
      "execution_count": 5,
      "metadata": {
        "colab": {
          "base_uri": "https://localhost:8080/"
        },
        "id": "-Jx5gReTd2iL",
        "outputId": "43dd7eb9-9bd8-4379-cb7c-ae2222b935a0"
      },
      "outputs": [
        {
          "name": "stdout",
          "output_type": "stream",
          "text": [
            "<class 'pandas.core.frame.DataFrame'>\n",
            "Index: 1201 entries, 0 to 1459\n",
            "Data columns (total 10 columns):\n",
            " #   Column       Non-Null Count  Dtype  \n",
            "---  ------       --------------  -----  \n",
            " 0   MSSubClass   1201 non-null   int64  \n",
            " 1   MSZoning     1201 non-null   object \n",
            " 2   LotFrontage  1201 non-null   float64\n",
            " 3   LotArea      1201 non-null   int64  \n",
            " 4   Street       1201 non-null   object \n",
            " 5   LotShape     1201 non-null   object \n",
            " 6   YearBuilt    1201 non-null   int64  \n",
            " 7   1stFlrSF     1201 non-null   int64  \n",
            " 8   2ndFlrSF     1201 non-null   int64  \n",
            " 9   SalePrice    1201 non-null   int64  \n",
            "dtypes: float64(1), int64(6), object(3)\n",
            "memory usage: 103.2+ KB\n"
          ]
        }
      ],
      "source": [
        "df.info()"
      ]
    },
    {
      "cell_type": "code",
      "execution_count": 6,
      "metadata": {
        "colab": {
          "base_uri": "https://localhost:8080/"
        },
        "id": "JEyET7uod48Y",
        "outputId": "38e4b86b-2331-49c9-e7d7-34836b913c21"
      },
      "outputs": [
        {
          "name": "stdout",
          "output_type": "stream",
          "text": [
            "Column name MSSubClass and unique value 15\n",
            "Column name MSZoning and unique value 5\n",
            "Column name LotFrontage and unique value 110\n",
            "Column name LotArea and unique value 869\n",
            "Column name Street and unique value 2\n",
            "Column name LotShape and unique value 4\n",
            "Column name YearBuilt and unique value 112\n",
            "Column name 1stFlrSF and unique value 678\n",
            "Column name 2ndFlrSF and unique value 368\n",
            "Column name SalePrice and unique value 597\n"
          ]
        }
      ],
      "source": [
        "for i in df.columns:\n",
        "  print(\"Column name {} and unique value {}\".format(i,len(df[i].unique())))"
      ]
    },
    {
      "cell_type": "code",
      "execution_count": 7,
      "metadata": {
        "colab": {
          "base_uri": "https://localhost:8080/"
        },
        "id": "FXQz76psjDtt",
        "outputId": "24518baf-7f2f-44b2-e27c-2efe612d0d2b"
      },
      "outputs": [
        {
          "name": "stdout",
          "output_type": "stream",
          "text": [
            "2024\n"
          ]
        }
      ],
      "source": [
        "import datetime\n",
        "print(datetime.datetime.now().year)"
      ]
    },
    {
      "cell_type": "code",
      "execution_count": 8,
      "metadata": {
        "id": "wVnfdYCxjqP8"
      },
      "outputs": [],
      "source": [
        "df[\"total year\"]=datetime.datetime.now().year-df[\"YearBuilt\"]"
      ]
    },
    {
      "cell_type": "code",
      "execution_count": 9,
      "metadata": {
        "id": "wYXIIAi-a73R"
      },
      "outputs": [],
      "source": [
        "df.drop(\"YearBuilt\",axis=1,inplace=True)"
      ]
    },
    {
      "cell_type": "code",
      "execution_count": 10,
      "metadata": {
        "colab": {
          "base_uri": "https://localhost:8080/"
        },
        "id": "u_rA7mTPbLAc",
        "outputId": "7c08e195-bf78-4d4c-b563-e65a188220bd"
      },
      "outputs": [
        {
          "data": {
            "text/plain": [
              "Index(['MSSubClass', 'MSZoning', 'LotFrontage', 'LotArea', 'Street',\n",
              "       'LotShape', '1stFlrSF', '2ndFlrSF', 'SalePrice', 'total year'],\n",
              "      dtype='object')"
            ]
          },
          "execution_count": 10,
          "metadata": {},
          "output_type": "execute_result"
        }
      ],
      "source": [
        "df.columns"
      ]
    },
    {
      "cell_type": "code",
      "execution_count": 11,
      "metadata": {
        "colab": {
          "base_uri": "https://localhost:8080/",
          "height": 206
        },
        "id": "Nt1-J4obbpeg",
        "outputId": "65de10a7-16d7-4877-cd07-c0f8f5cb1003"
      },
      "outputs": [
        {
          "data": {
            "application/vnd.google.colaboratory.intrinsic+json": {
              "summary": "{\n  \"name\": \"df\",\n  \"rows\": 1201,\n  \"fields\": [\n    {\n      \"column\": \"MSSubClass\",\n      \"properties\": {\n        \"dtype\": \"number\",\n        \"std\": 43,\n        \"min\": 20,\n        \"max\": 190,\n        \"num_unique_values\": 15,\n        \"samples\": [\n          80,\n          75,\n          60\n        ],\n        \"semantic_type\": \"\",\n        \"description\": \"\"\n      }\n    },\n    {\n      \"column\": \"MSZoning\",\n      \"properties\": {\n        \"dtype\": \"category\",\n        \"num_unique_values\": 5,\n        \"samples\": [\n          \"RM\",\n          \"RH\",\n          \"C (all)\"\n        ],\n        \"semantic_type\": \"\",\n        \"description\": \"\"\n      }\n    },\n    {\n      \"column\": \"LotFrontage\",\n      \"properties\": {\n        \"dtype\": \"number\",\n        \"std\": 24.284751774483208,\n        \"min\": 21.0,\n        \"max\": 313.0,\n        \"num_unique_values\": 110,\n        \"samples\": [\n          150.0,\n          91.0,\n          84.0\n        ],\n        \"semantic_type\": \"\",\n        \"description\": \"\"\n      }\n    },\n    {\n      \"column\": \"LotArea\",\n      \"properties\": {\n        \"dtype\": \"number\",\n        \"std\": 7924,\n        \"min\": 1300,\n        \"max\": 215245,\n        \"num_unique_values\": 869,\n        \"samples\": [\n          11198,\n          4500,\n          8544\n        ],\n        \"semantic_type\": \"\",\n        \"description\": \"\"\n      }\n    },\n    {\n      \"column\": \"Street\",\n      \"properties\": {\n        \"dtype\": \"category\",\n        \"num_unique_values\": 2,\n        \"samples\": [\n          \"Grvl\",\n          \"Pave\"\n        ],\n        \"semantic_type\": \"\",\n        \"description\": \"\"\n      }\n    },\n    {\n      \"column\": \"LotShape\",\n      \"properties\": {\n        \"dtype\": \"category\",\n        \"num_unique_values\": 4,\n        \"samples\": [\n          \"IR1\",\n          \"IR3\"\n        ],\n        \"semantic_type\": \"\",\n        \"description\": \"\"\n      }\n    },\n    {\n      \"column\": \"1stFlrSF\",\n      \"properties\": {\n        \"dtype\": \"number\",\n        \"std\": 386,\n        \"min\": 334,\n        \"max\": 4692,\n        \"num_unique_values\": 678,\n        \"samples\": [\n          1334,\n          2020\n        ],\n        \"semantic_type\": \"\",\n        \"description\": \"\"\n      }\n    },\n    {\n      \"column\": \"2ndFlrSF\",\n      \"properties\": {\n        \"dtype\": \"number\",\n        \"std\": 435,\n        \"min\": 0,\n        \"max\": 2065,\n        \"num_unique_values\": 368,\n        \"samples\": [\n          707,\n          639\n        ],\n        \"semantic_type\": \"\",\n        \"description\": \"\"\n      }\n    },\n    {\n      \"column\": \"SalePrice\",\n      \"properties\": {\n        \"dtype\": \"number\",\n        \"std\": 83389,\n        \"min\": 34900,\n        \"max\": 755000,\n        \"num_unique_values\": 597,\n        \"samples\": [\n          372402,\n          395192\n        ],\n        \"semantic_type\": \"\",\n        \"description\": \"\"\n      }\n    },\n    {\n      \"column\": \"total year\",\n      \"properties\": {\n        \"dtype\": \"number\",\n        \"std\": 31,\n        \"min\": 14,\n        \"max\": 152,\n        \"num_unique_values\": 112,\n        \"samples\": [\n          56,\n          37\n        ],\n        \"semantic_type\": \"\",\n        \"description\": \"\"\n      }\n    }\n  ]\n}",
              "type": "dataframe",
              "variable_name": "df"
            },
            "text/html": [
              "\n",
              "  <div id=\"df-95c2408c-a826-4de5-a3a8-207dd112118a\" class=\"colab-df-container\">\n",
              "    <div>\n",
              "<style scoped>\n",
              "    .dataframe tbody tr th:only-of-type {\n",
              "        vertical-align: middle;\n",
              "    }\n",
              "\n",
              "    .dataframe tbody tr th {\n",
              "        vertical-align: top;\n",
              "    }\n",
              "\n",
              "    .dataframe thead th {\n",
              "        text-align: right;\n",
              "    }\n",
              "</style>\n",
              "<table border=\"1\" class=\"dataframe\">\n",
              "  <thead>\n",
              "    <tr style=\"text-align: right;\">\n",
              "      <th></th>\n",
              "      <th>MSSubClass</th>\n",
              "      <th>MSZoning</th>\n",
              "      <th>LotFrontage</th>\n",
              "      <th>LotArea</th>\n",
              "      <th>Street</th>\n",
              "      <th>LotShape</th>\n",
              "      <th>1stFlrSF</th>\n",
              "      <th>2ndFlrSF</th>\n",
              "      <th>SalePrice</th>\n",
              "      <th>total year</th>\n",
              "    </tr>\n",
              "  </thead>\n",
              "  <tbody>\n",
              "    <tr>\n",
              "      <th>0</th>\n",
              "      <td>60</td>\n",
              "      <td>RL</td>\n",
              "      <td>65.0</td>\n",
              "      <td>8450</td>\n",
              "      <td>Pave</td>\n",
              "      <td>Reg</td>\n",
              "      <td>856</td>\n",
              "      <td>854</td>\n",
              "      <td>208500</td>\n",
              "      <td>21</td>\n",
              "    </tr>\n",
              "    <tr>\n",
              "      <th>1</th>\n",
              "      <td>20</td>\n",
              "      <td>RL</td>\n",
              "      <td>80.0</td>\n",
              "      <td>9600</td>\n",
              "      <td>Pave</td>\n",
              "      <td>Reg</td>\n",
              "      <td>1262</td>\n",
              "      <td>0</td>\n",
              "      <td>181500</td>\n",
              "      <td>48</td>\n",
              "    </tr>\n",
              "    <tr>\n",
              "      <th>2</th>\n",
              "      <td>60</td>\n",
              "      <td>RL</td>\n",
              "      <td>68.0</td>\n",
              "      <td>11250</td>\n",
              "      <td>Pave</td>\n",
              "      <td>IR1</td>\n",
              "      <td>920</td>\n",
              "      <td>866</td>\n",
              "      <td>223500</td>\n",
              "      <td>23</td>\n",
              "    </tr>\n",
              "    <tr>\n",
              "      <th>3</th>\n",
              "      <td>70</td>\n",
              "      <td>RL</td>\n",
              "      <td>60.0</td>\n",
              "      <td>9550</td>\n",
              "      <td>Pave</td>\n",
              "      <td>IR1</td>\n",
              "      <td>961</td>\n",
              "      <td>756</td>\n",
              "      <td>140000</td>\n",
              "      <td>109</td>\n",
              "    </tr>\n",
              "    <tr>\n",
              "      <th>4</th>\n",
              "      <td>60</td>\n",
              "      <td>RL</td>\n",
              "      <td>84.0</td>\n",
              "      <td>14260</td>\n",
              "      <td>Pave</td>\n",
              "      <td>IR1</td>\n",
              "      <td>1145</td>\n",
              "      <td>1053</td>\n",
              "      <td>250000</td>\n",
              "      <td>24</td>\n",
              "    </tr>\n",
              "  </tbody>\n",
              "</table>\n",
              "</div>\n",
              "    <div class=\"colab-df-buttons\">\n",
              "\n",
              "  <div class=\"colab-df-container\">\n",
              "    <button class=\"colab-df-convert\" onclick=\"convertToInteractive('df-95c2408c-a826-4de5-a3a8-207dd112118a')\"\n",
              "            title=\"Convert this dataframe to an interactive table.\"\n",
              "            style=\"display:none;\">\n",
              "\n",
              "  <svg xmlns=\"http://www.w3.org/2000/svg\" height=\"24px\" viewBox=\"0 -960 960 960\">\n",
              "    <path d=\"M120-120v-720h720v720H120Zm60-500h600v-160H180v160Zm220 220h160v-160H400v160Zm0 220h160v-160H400v160ZM180-400h160v-160H180v160Zm440 0h160v-160H620v160ZM180-180h160v-160H180v160Zm440 0h160v-160H620v160Z\"/>\n",
              "  </svg>\n",
              "    </button>\n",
              "\n",
              "  <style>\n",
              "    .colab-df-container {\n",
              "      display:flex;\n",
              "      gap: 12px;\n",
              "    }\n",
              "\n",
              "    .colab-df-convert {\n",
              "      background-color: #E8F0FE;\n",
              "      border: none;\n",
              "      border-radius: 50%;\n",
              "      cursor: pointer;\n",
              "      display: none;\n",
              "      fill: #1967D2;\n",
              "      height: 32px;\n",
              "      padding: 0 0 0 0;\n",
              "      width: 32px;\n",
              "    }\n",
              "\n",
              "    .colab-df-convert:hover {\n",
              "      background-color: #E2EBFA;\n",
              "      box-shadow: 0px 1px 2px rgba(60, 64, 67, 0.3), 0px 1px 3px 1px rgba(60, 64, 67, 0.15);\n",
              "      fill: #174EA6;\n",
              "    }\n",
              "\n",
              "    .colab-df-buttons div {\n",
              "      margin-bottom: 4px;\n",
              "    }\n",
              "\n",
              "    [theme=dark] .colab-df-convert {\n",
              "      background-color: #3B4455;\n",
              "      fill: #D2E3FC;\n",
              "    }\n",
              "\n",
              "    [theme=dark] .colab-df-convert:hover {\n",
              "      background-color: #434B5C;\n",
              "      box-shadow: 0px 1px 3px 1px rgba(0, 0, 0, 0.15);\n",
              "      filter: drop-shadow(0px 1px 2px rgba(0, 0, 0, 0.3));\n",
              "      fill: #FFFFFF;\n",
              "    }\n",
              "  </style>\n",
              "\n",
              "    <script>\n",
              "      const buttonEl =\n",
              "        document.querySelector('#df-95c2408c-a826-4de5-a3a8-207dd112118a button.colab-df-convert');\n",
              "      buttonEl.style.display =\n",
              "        google.colab.kernel.accessAllowed ? 'block' : 'none';\n",
              "\n",
              "      async function convertToInteractive(key) {\n",
              "        const element = document.querySelector('#df-95c2408c-a826-4de5-a3a8-207dd112118a');\n",
              "        const dataTable =\n",
              "          await google.colab.kernel.invokeFunction('convertToInteractive',\n",
              "                                                    [key], {});\n",
              "        if (!dataTable) return;\n",
              "\n",
              "        const docLinkHtml = 'Like what you see? Visit the ' +\n",
              "          '<a target=\"_blank\" href=https://colab.research.google.com/notebooks/data_table.ipynb>data table notebook</a>'\n",
              "          + ' to learn more about interactive tables.';\n",
              "        element.innerHTML = '';\n",
              "        dataTable['output_type'] = 'display_data';\n",
              "        await google.colab.output.renderOutput(dataTable, element);\n",
              "        const docLink = document.createElement('div');\n",
              "        docLink.innerHTML = docLinkHtml;\n",
              "        element.appendChild(docLink);\n",
              "      }\n",
              "    </script>\n",
              "  </div>\n",
              "\n",
              "\n",
              "<div id=\"df-7ff8a1a0-d945-4b79-8186-81b82142424d\">\n",
              "  <button class=\"colab-df-quickchart\" onclick=\"quickchart('df-7ff8a1a0-d945-4b79-8186-81b82142424d')\"\n",
              "            title=\"Suggest charts\"\n",
              "            style=\"display:none;\">\n",
              "\n",
              "<svg xmlns=\"http://www.w3.org/2000/svg\" height=\"24px\"viewBox=\"0 0 24 24\"\n",
              "     width=\"24px\">\n",
              "    <g>\n",
              "        <path d=\"M19 3H5c-1.1 0-2 .9-2 2v14c0 1.1.9 2 2 2h14c1.1 0 2-.9 2-2V5c0-1.1-.9-2-2-2zM9 17H7v-7h2v7zm4 0h-2V7h2v10zm4 0h-2v-4h2v4z\"/>\n",
              "    </g>\n",
              "</svg>\n",
              "  </button>\n",
              "\n",
              "<style>\n",
              "  .colab-df-quickchart {\n",
              "      --bg-color: #E8F0FE;\n",
              "      --fill-color: #1967D2;\n",
              "      --hover-bg-color: #E2EBFA;\n",
              "      --hover-fill-color: #174EA6;\n",
              "      --disabled-fill-color: #AAA;\n",
              "      --disabled-bg-color: #DDD;\n",
              "  }\n",
              "\n",
              "  [theme=dark] .colab-df-quickchart {\n",
              "      --bg-color: #3B4455;\n",
              "      --fill-color: #D2E3FC;\n",
              "      --hover-bg-color: #434B5C;\n",
              "      --hover-fill-color: #FFFFFF;\n",
              "      --disabled-bg-color: #3B4455;\n",
              "      --disabled-fill-color: #666;\n",
              "  }\n",
              "\n",
              "  .colab-df-quickchart {\n",
              "    background-color: var(--bg-color);\n",
              "    border: none;\n",
              "    border-radius: 50%;\n",
              "    cursor: pointer;\n",
              "    display: none;\n",
              "    fill: var(--fill-color);\n",
              "    height: 32px;\n",
              "    padding: 0;\n",
              "    width: 32px;\n",
              "  }\n",
              "\n",
              "  .colab-df-quickchart:hover {\n",
              "    background-color: var(--hover-bg-color);\n",
              "    box-shadow: 0 1px 2px rgba(60, 64, 67, 0.3), 0 1px 3px 1px rgba(60, 64, 67, 0.15);\n",
              "    fill: var(--button-hover-fill-color);\n",
              "  }\n",
              "\n",
              "  .colab-df-quickchart-complete:disabled,\n",
              "  .colab-df-quickchart-complete:disabled:hover {\n",
              "    background-color: var(--disabled-bg-color);\n",
              "    fill: var(--disabled-fill-color);\n",
              "    box-shadow: none;\n",
              "  }\n",
              "\n",
              "  .colab-df-spinner {\n",
              "    border: 2px solid var(--fill-color);\n",
              "    border-color: transparent;\n",
              "    border-bottom-color: var(--fill-color);\n",
              "    animation:\n",
              "      spin 1s steps(1) infinite;\n",
              "  }\n",
              "\n",
              "  @keyframes spin {\n",
              "    0% {\n",
              "      border-color: transparent;\n",
              "      border-bottom-color: var(--fill-color);\n",
              "      border-left-color: var(--fill-color);\n",
              "    }\n",
              "    20% {\n",
              "      border-color: transparent;\n",
              "      border-left-color: var(--fill-color);\n",
              "      border-top-color: var(--fill-color);\n",
              "    }\n",
              "    30% {\n",
              "      border-color: transparent;\n",
              "      border-left-color: var(--fill-color);\n",
              "      border-top-color: var(--fill-color);\n",
              "      border-right-color: var(--fill-color);\n",
              "    }\n",
              "    40% {\n",
              "      border-color: transparent;\n",
              "      border-right-color: var(--fill-color);\n",
              "      border-top-color: var(--fill-color);\n",
              "    }\n",
              "    60% {\n",
              "      border-color: transparent;\n",
              "      border-right-color: var(--fill-color);\n",
              "    }\n",
              "    80% {\n",
              "      border-color: transparent;\n",
              "      border-right-color: var(--fill-color);\n",
              "      border-bottom-color: var(--fill-color);\n",
              "    }\n",
              "    90% {\n",
              "      border-color: transparent;\n",
              "      border-bottom-color: var(--fill-color);\n",
              "    }\n",
              "  }\n",
              "</style>\n",
              "\n",
              "  <script>\n",
              "    async function quickchart(key) {\n",
              "      const quickchartButtonEl =\n",
              "        document.querySelector('#' + key + ' button');\n",
              "      quickchartButtonEl.disabled = true;  // To prevent multiple clicks.\n",
              "      quickchartButtonEl.classList.add('colab-df-spinner');\n",
              "      try {\n",
              "        const charts = await google.colab.kernel.invokeFunction(\n",
              "            'suggestCharts', [key], {});\n",
              "      } catch (error) {\n",
              "        console.error('Error during call to suggestCharts:', error);\n",
              "      }\n",
              "      quickchartButtonEl.classList.remove('colab-df-spinner');\n",
              "      quickchartButtonEl.classList.add('colab-df-quickchart-complete');\n",
              "    }\n",
              "    (() => {\n",
              "      let quickchartButtonEl =\n",
              "        document.querySelector('#df-7ff8a1a0-d945-4b79-8186-81b82142424d button');\n",
              "      quickchartButtonEl.style.display =\n",
              "        google.colab.kernel.accessAllowed ? 'block' : 'none';\n",
              "    })();\n",
              "  </script>\n",
              "</div>\n",
              "    </div>\n",
              "  </div>\n"
            ],
            "text/plain": [
              "   MSSubClass MSZoning  LotFrontage  LotArea Street LotShape  1stFlrSF  \\\n",
              "0          60       RL         65.0     8450   Pave      Reg       856   \n",
              "1          20       RL         80.0     9600   Pave      Reg      1262   \n",
              "2          60       RL         68.0    11250   Pave      IR1       920   \n",
              "3          70       RL         60.0     9550   Pave      IR1       961   \n",
              "4          60       RL         84.0    14260   Pave      IR1      1145   \n",
              "\n",
              "   2ndFlrSF  SalePrice  total year  \n",
              "0       854     208500          21  \n",
              "1         0     181500          48  \n",
              "2       866     223500          23  \n",
              "3       756     140000         109  \n",
              "4      1053     250000          24  "
            ]
          },
          "execution_count": 11,
          "metadata": {},
          "output_type": "execute_result"
        }
      ],
      "source": [
        "df.head()"
      ]
    },
    {
      "cell_type": "code",
      "execution_count": 12,
      "metadata": {
        "id": "CIKZIVoWex5e"
      },
      "outputs": [],
      "source": [
        "cat_feature=[\"MSSubClass\",\"MSZoning\",\"Street\",\"LotShape\"]\n",
        "out_features=\"SalePrice\""
      ]
    },
    {
      "cell_type": "code",
      "execution_count": 13,
      "metadata": {
        "id": "-C05VgxDfcX_"
      },
      "outputs": [],
      "source": [
        "#we use label encoder because of for embedding layer\n",
        "from sklearn.preprocessing import LabelEncoder\n",
        "le=LabelEncoder()\n",
        "df[\"MSSubClass\"]=le.fit_transform(df[\"MSSubClass\"])"
      ]
    },
    {
      "cell_type": "code",
      "execution_count": 14,
      "metadata": {
        "colab": {
          "base_uri": "https://localhost:8080/"
        },
        "id": "5rdoXlK9gVt5",
        "outputId": "811f2d6b-1c1c-48af-f6e8-6afdb9b3e2fe"
      },
      "outputs": [
        {
          "data": {
            "text/plain": [
              "0       5\n",
              "1       0\n",
              "2       5\n",
              "3       6\n",
              "4       5\n",
              "       ..\n",
              "1455    5\n",
              "1456    0\n",
              "1457    6\n",
              "1458    0\n",
              "1459    0\n",
              "Name: MSSubClass, Length: 1201, dtype: int64"
            ]
          },
          "execution_count": 14,
          "metadata": {},
          "output_type": "execute_result"
        }
      ],
      "source": [
        "df[\"MSSubClass\"]"
      ]
    },
    {
      "cell_type": "code",
      "execution_count": 15,
      "metadata": {
        "colab": {
          "base_uri": "https://localhost:8080/"
        },
        "id": "0K2VOa9mgb6s",
        "outputId": "e54d679a-f9ca-4948-9dac-b695cff441fd"
      },
      "outputs": [
        {
          "data": {
            "text/plain": [
              "array([ 5,  0,  6,  4, 14,  3, 10, 11,  1,  8, 12,  7, 13,  2,  9])"
            ]
          },
          "execution_count": 15,
          "metadata": {},
          "output_type": "execute_result"
        }
      ],
      "source": [
        "df.MSSubClass.unique()"
      ]
    },
    {
      "cell_type": "code",
      "execution_count": 16,
      "metadata": {
        "id": "_BtDZeM6ggEU"
      },
      "outputs": [],
      "source": [
        "#using label encoder for all cat columns\n",
        "for i in cat_feature:\n",
        "  df[i]=le.fit_transform(df[i])"
      ]
    },
    {
      "cell_type": "code",
      "execution_count": 17,
      "metadata": {
        "colab": {
          "base_uri": "https://localhost:8080/",
          "height": 206
        },
        "id": "ldvXOjcDhg2h",
        "outputId": "345b6aec-3b16-4c11-800e-b3684b768a53"
      },
      "outputs": [
        {
          "data": {
            "application/vnd.google.colaboratory.intrinsic+json": {
              "summary": "{\n  \"name\": \"df\",\n  \"rows\": 1201,\n  \"fields\": [\n    {\n      \"column\": \"MSSubClass\",\n      \"properties\": {\n        \"dtype\": \"number\",\n        \"std\": 4,\n        \"min\": 0,\n        \"max\": 14,\n        \"num_unique_values\": 15,\n        \"samples\": [\n          8,\n          7,\n          5\n        ],\n        \"semantic_type\": \"\",\n        \"description\": \"\"\n      }\n    },\n    {\n      \"column\": \"MSZoning\",\n      \"properties\": {\n        \"dtype\": \"number\",\n        \"std\": 0,\n        \"min\": 0,\n        \"max\": 4,\n        \"num_unique_values\": 5,\n        \"samples\": [\n          4,\n          2,\n          0\n        ],\n        \"semantic_type\": \"\",\n        \"description\": \"\"\n      }\n    },\n    {\n      \"column\": \"LotFrontage\",\n      \"properties\": {\n        \"dtype\": \"number\",\n        \"std\": 24.284751774483208,\n        \"min\": 21.0,\n        \"max\": 313.0,\n        \"num_unique_values\": 110,\n        \"samples\": [\n          150.0,\n          91.0,\n          84.0\n        ],\n        \"semantic_type\": \"\",\n        \"description\": \"\"\n      }\n    },\n    {\n      \"column\": \"LotArea\",\n      \"properties\": {\n        \"dtype\": \"number\",\n        \"std\": 7924,\n        \"min\": 1300,\n        \"max\": 215245,\n        \"num_unique_values\": 869,\n        \"samples\": [\n          11198,\n          4500,\n          8544\n        ],\n        \"semantic_type\": \"\",\n        \"description\": \"\"\n      }\n    },\n    {\n      \"column\": \"Street\",\n      \"properties\": {\n        \"dtype\": \"number\",\n        \"std\": 0,\n        \"min\": 0,\n        \"max\": 1,\n        \"num_unique_values\": 2,\n        \"samples\": [\n          0,\n          1\n        ],\n        \"semantic_type\": \"\",\n        \"description\": \"\"\n      }\n    },\n    {\n      \"column\": \"LotShape\",\n      \"properties\": {\n        \"dtype\": \"number\",\n        \"std\": 1,\n        \"min\": 0,\n        \"max\": 3,\n        \"num_unique_values\": 4,\n        \"samples\": [\n          0,\n          2\n        ],\n        \"semantic_type\": \"\",\n        \"description\": \"\"\n      }\n    },\n    {\n      \"column\": \"1stFlrSF\",\n      \"properties\": {\n        \"dtype\": \"number\",\n        \"std\": 386,\n        \"min\": 334,\n        \"max\": 4692,\n        \"num_unique_values\": 678,\n        \"samples\": [\n          1334,\n          2020\n        ],\n        \"semantic_type\": \"\",\n        \"description\": \"\"\n      }\n    },\n    {\n      \"column\": \"2ndFlrSF\",\n      \"properties\": {\n        \"dtype\": \"number\",\n        \"std\": 435,\n        \"min\": 0,\n        \"max\": 2065,\n        \"num_unique_values\": 368,\n        \"samples\": [\n          707,\n          639\n        ],\n        \"semantic_type\": \"\",\n        \"description\": \"\"\n      }\n    },\n    {\n      \"column\": \"SalePrice\",\n      \"properties\": {\n        \"dtype\": \"number\",\n        \"std\": 83389,\n        \"min\": 34900,\n        \"max\": 755000,\n        \"num_unique_values\": 597,\n        \"samples\": [\n          372402,\n          395192\n        ],\n        \"semantic_type\": \"\",\n        \"description\": \"\"\n      }\n    },\n    {\n      \"column\": \"total year\",\n      \"properties\": {\n        \"dtype\": \"number\",\n        \"std\": 31,\n        \"min\": 14,\n        \"max\": 152,\n        \"num_unique_values\": 112,\n        \"samples\": [\n          56,\n          37\n        ],\n        \"semantic_type\": \"\",\n        \"description\": \"\"\n      }\n    }\n  ]\n}",
              "type": "dataframe",
              "variable_name": "df"
            },
            "text/html": [
              "\n",
              "  <div id=\"df-9e100bff-26c5-449e-a667-08344a03267e\" class=\"colab-df-container\">\n",
              "    <div>\n",
              "<style scoped>\n",
              "    .dataframe tbody tr th:only-of-type {\n",
              "        vertical-align: middle;\n",
              "    }\n",
              "\n",
              "    .dataframe tbody tr th {\n",
              "        vertical-align: top;\n",
              "    }\n",
              "\n",
              "    .dataframe thead th {\n",
              "        text-align: right;\n",
              "    }\n",
              "</style>\n",
              "<table border=\"1\" class=\"dataframe\">\n",
              "  <thead>\n",
              "    <tr style=\"text-align: right;\">\n",
              "      <th></th>\n",
              "      <th>MSSubClass</th>\n",
              "      <th>MSZoning</th>\n",
              "      <th>LotFrontage</th>\n",
              "      <th>LotArea</th>\n",
              "      <th>Street</th>\n",
              "      <th>LotShape</th>\n",
              "      <th>1stFlrSF</th>\n",
              "      <th>2ndFlrSF</th>\n",
              "      <th>SalePrice</th>\n",
              "      <th>total year</th>\n",
              "    </tr>\n",
              "  </thead>\n",
              "  <tbody>\n",
              "    <tr>\n",
              "      <th>0</th>\n",
              "      <td>5</td>\n",
              "      <td>3</td>\n",
              "      <td>65.0</td>\n",
              "      <td>8450</td>\n",
              "      <td>1</td>\n",
              "      <td>3</td>\n",
              "      <td>856</td>\n",
              "      <td>854</td>\n",
              "      <td>208500</td>\n",
              "      <td>21</td>\n",
              "    </tr>\n",
              "    <tr>\n",
              "      <th>1</th>\n",
              "      <td>0</td>\n",
              "      <td>3</td>\n",
              "      <td>80.0</td>\n",
              "      <td>9600</td>\n",
              "      <td>1</td>\n",
              "      <td>3</td>\n",
              "      <td>1262</td>\n",
              "      <td>0</td>\n",
              "      <td>181500</td>\n",
              "      <td>48</td>\n",
              "    </tr>\n",
              "    <tr>\n",
              "      <th>2</th>\n",
              "      <td>5</td>\n",
              "      <td>3</td>\n",
              "      <td>68.0</td>\n",
              "      <td>11250</td>\n",
              "      <td>1</td>\n",
              "      <td>0</td>\n",
              "      <td>920</td>\n",
              "      <td>866</td>\n",
              "      <td>223500</td>\n",
              "      <td>23</td>\n",
              "    </tr>\n",
              "    <tr>\n",
              "      <th>3</th>\n",
              "      <td>6</td>\n",
              "      <td>3</td>\n",
              "      <td>60.0</td>\n",
              "      <td>9550</td>\n",
              "      <td>1</td>\n",
              "      <td>0</td>\n",
              "      <td>961</td>\n",
              "      <td>756</td>\n",
              "      <td>140000</td>\n",
              "      <td>109</td>\n",
              "    </tr>\n",
              "    <tr>\n",
              "      <th>4</th>\n",
              "      <td>5</td>\n",
              "      <td>3</td>\n",
              "      <td>84.0</td>\n",
              "      <td>14260</td>\n",
              "      <td>1</td>\n",
              "      <td>0</td>\n",
              "      <td>1145</td>\n",
              "      <td>1053</td>\n",
              "      <td>250000</td>\n",
              "      <td>24</td>\n",
              "    </tr>\n",
              "  </tbody>\n",
              "</table>\n",
              "</div>\n",
              "    <div class=\"colab-df-buttons\">\n",
              "\n",
              "  <div class=\"colab-df-container\">\n",
              "    <button class=\"colab-df-convert\" onclick=\"convertToInteractive('df-9e100bff-26c5-449e-a667-08344a03267e')\"\n",
              "            title=\"Convert this dataframe to an interactive table.\"\n",
              "            style=\"display:none;\">\n",
              "\n",
              "  <svg xmlns=\"http://www.w3.org/2000/svg\" height=\"24px\" viewBox=\"0 -960 960 960\">\n",
              "    <path d=\"M120-120v-720h720v720H120Zm60-500h600v-160H180v160Zm220 220h160v-160H400v160Zm0 220h160v-160H400v160ZM180-400h160v-160H180v160Zm440 0h160v-160H620v160ZM180-180h160v-160H180v160Zm440 0h160v-160H620v160Z\"/>\n",
              "  </svg>\n",
              "    </button>\n",
              "\n",
              "  <style>\n",
              "    .colab-df-container {\n",
              "      display:flex;\n",
              "      gap: 12px;\n",
              "    }\n",
              "\n",
              "    .colab-df-convert {\n",
              "      background-color: #E8F0FE;\n",
              "      border: none;\n",
              "      border-radius: 50%;\n",
              "      cursor: pointer;\n",
              "      display: none;\n",
              "      fill: #1967D2;\n",
              "      height: 32px;\n",
              "      padding: 0 0 0 0;\n",
              "      width: 32px;\n",
              "    }\n",
              "\n",
              "    .colab-df-convert:hover {\n",
              "      background-color: #E2EBFA;\n",
              "      box-shadow: 0px 1px 2px rgba(60, 64, 67, 0.3), 0px 1px 3px 1px rgba(60, 64, 67, 0.15);\n",
              "      fill: #174EA6;\n",
              "    }\n",
              "\n",
              "    .colab-df-buttons div {\n",
              "      margin-bottom: 4px;\n",
              "    }\n",
              "\n",
              "    [theme=dark] .colab-df-convert {\n",
              "      background-color: #3B4455;\n",
              "      fill: #D2E3FC;\n",
              "    }\n",
              "\n",
              "    [theme=dark] .colab-df-convert:hover {\n",
              "      background-color: #434B5C;\n",
              "      box-shadow: 0px 1px 3px 1px rgba(0, 0, 0, 0.15);\n",
              "      filter: drop-shadow(0px 1px 2px rgba(0, 0, 0, 0.3));\n",
              "      fill: #FFFFFF;\n",
              "    }\n",
              "  </style>\n",
              "\n",
              "    <script>\n",
              "      const buttonEl =\n",
              "        document.querySelector('#df-9e100bff-26c5-449e-a667-08344a03267e button.colab-df-convert');\n",
              "      buttonEl.style.display =\n",
              "        google.colab.kernel.accessAllowed ? 'block' : 'none';\n",
              "\n",
              "      async function convertToInteractive(key) {\n",
              "        const element = document.querySelector('#df-9e100bff-26c5-449e-a667-08344a03267e');\n",
              "        const dataTable =\n",
              "          await google.colab.kernel.invokeFunction('convertToInteractive',\n",
              "                                                    [key], {});\n",
              "        if (!dataTable) return;\n",
              "\n",
              "        const docLinkHtml = 'Like what you see? Visit the ' +\n",
              "          '<a target=\"_blank\" href=https://colab.research.google.com/notebooks/data_table.ipynb>data table notebook</a>'\n",
              "          + ' to learn more about interactive tables.';\n",
              "        element.innerHTML = '';\n",
              "        dataTable['output_type'] = 'display_data';\n",
              "        await google.colab.output.renderOutput(dataTable, element);\n",
              "        const docLink = document.createElement('div');\n",
              "        docLink.innerHTML = docLinkHtml;\n",
              "        element.appendChild(docLink);\n",
              "      }\n",
              "    </script>\n",
              "  </div>\n",
              "\n",
              "\n",
              "<div id=\"df-26eb399a-837b-4299-9ea3-c7cd25234390\">\n",
              "  <button class=\"colab-df-quickchart\" onclick=\"quickchart('df-26eb399a-837b-4299-9ea3-c7cd25234390')\"\n",
              "            title=\"Suggest charts\"\n",
              "            style=\"display:none;\">\n",
              "\n",
              "<svg xmlns=\"http://www.w3.org/2000/svg\" height=\"24px\"viewBox=\"0 0 24 24\"\n",
              "     width=\"24px\">\n",
              "    <g>\n",
              "        <path d=\"M19 3H5c-1.1 0-2 .9-2 2v14c0 1.1.9 2 2 2h14c1.1 0 2-.9 2-2V5c0-1.1-.9-2-2-2zM9 17H7v-7h2v7zm4 0h-2V7h2v10zm4 0h-2v-4h2v4z\"/>\n",
              "    </g>\n",
              "</svg>\n",
              "  </button>\n",
              "\n",
              "<style>\n",
              "  .colab-df-quickchart {\n",
              "      --bg-color: #E8F0FE;\n",
              "      --fill-color: #1967D2;\n",
              "      --hover-bg-color: #E2EBFA;\n",
              "      --hover-fill-color: #174EA6;\n",
              "      --disabled-fill-color: #AAA;\n",
              "      --disabled-bg-color: #DDD;\n",
              "  }\n",
              "\n",
              "  [theme=dark] .colab-df-quickchart {\n",
              "      --bg-color: #3B4455;\n",
              "      --fill-color: #D2E3FC;\n",
              "      --hover-bg-color: #434B5C;\n",
              "      --hover-fill-color: #FFFFFF;\n",
              "      --disabled-bg-color: #3B4455;\n",
              "      --disabled-fill-color: #666;\n",
              "  }\n",
              "\n",
              "  .colab-df-quickchart {\n",
              "    background-color: var(--bg-color);\n",
              "    border: none;\n",
              "    border-radius: 50%;\n",
              "    cursor: pointer;\n",
              "    display: none;\n",
              "    fill: var(--fill-color);\n",
              "    height: 32px;\n",
              "    padding: 0;\n",
              "    width: 32px;\n",
              "  }\n",
              "\n",
              "  .colab-df-quickchart:hover {\n",
              "    background-color: var(--hover-bg-color);\n",
              "    box-shadow: 0 1px 2px rgba(60, 64, 67, 0.3), 0 1px 3px 1px rgba(60, 64, 67, 0.15);\n",
              "    fill: var(--button-hover-fill-color);\n",
              "  }\n",
              "\n",
              "  .colab-df-quickchart-complete:disabled,\n",
              "  .colab-df-quickchart-complete:disabled:hover {\n",
              "    background-color: var(--disabled-bg-color);\n",
              "    fill: var(--disabled-fill-color);\n",
              "    box-shadow: none;\n",
              "  }\n",
              "\n",
              "  .colab-df-spinner {\n",
              "    border: 2px solid var(--fill-color);\n",
              "    border-color: transparent;\n",
              "    border-bottom-color: var(--fill-color);\n",
              "    animation:\n",
              "      spin 1s steps(1) infinite;\n",
              "  }\n",
              "\n",
              "  @keyframes spin {\n",
              "    0% {\n",
              "      border-color: transparent;\n",
              "      border-bottom-color: var(--fill-color);\n",
              "      border-left-color: var(--fill-color);\n",
              "    }\n",
              "    20% {\n",
              "      border-color: transparent;\n",
              "      border-left-color: var(--fill-color);\n",
              "      border-top-color: var(--fill-color);\n",
              "    }\n",
              "    30% {\n",
              "      border-color: transparent;\n",
              "      border-left-color: var(--fill-color);\n",
              "      border-top-color: var(--fill-color);\n",
              "      border-right-color: var(--fill-color);\n",
              "    }\n",
              "    40% {\n",
              "      border-color: transparent;\n",
              "      border-right-color: var(--fill-color);\n",
              "      border-top-color: var(--fill-color);\n",
              "    }\n",
              "    60% {\n",
              "      border-color: transparent;\n",
              "      border-right-color: var(--fill-color);\n",
              "    }\n",
              "    80% {\n",
              "      border-color: transparent;\n",
              "      border-right-color: var(--fill-color);\n",
              "      border-bottom-color: var(--fill-color);\n",
              "    }\n",
              "    90% {\n",
              "      border-color: transparent;\n",
              "      border-bottom-color: var(--fill-color);\n",
              "    }\n",
              "  }\n",
              "</style>\n",
              "\n",
              "  <script>\n",
              "    async function quickchart(key) {\n",
              "      const quickchartButtonEl =\n",
              "        document.querySelector('#' + key + ' button');\n",
              "      quickchartButtonEl.disabled = true;  // To prevent multiple clicks.\n",
              "      quickchartButtonEl.classList.add('colab-df-spinner');\n",
              "      try {\n",
              "        const charts = await google.colab.kernel.invokeFunction(\n",
              "            'suggestCharts', [key], {});\n",
              "      } catch (error) {\n",
              "        console.error('Error during call to suggestCharts:', error);\n",
              "      }\n",
              "      quickchartButtonEl.classList.remove('colab-df-spinner');\n",
              "      quickchartButtonEl.classList.add('colab-df-quickchart-complete');\n",
              "    }\n",
              "    (() => {\n",
              "      let quickchartButtonEl =\n",
              "        document.querySelector('#df-26eb399a-837b-4299-9ea3-c7cd25234390 button');\n",
              "      quickchartButtonEl.style.display =\n",
              "        google.colab.kernel.accessAllowed ? 'block' : 'none';\n",
              "    })();\n",
              "  </script>\n",
              "</div>\n",
              "    </div>\n",
              "  </div>\n"
            ],
            "text/plain": [
              "   MSSubClass  MSZoning  LotFrontage  LotArea  Street  LotShape  1stFlrSF  \\\n",
              "0           5         3         65.0     8450       1         3       856   \n",
              "1           0         3         80.0     9600       1         3      1262   \n",
              "2           5         3         68.0    11250       1         0       920   \n",
              "3           6         3         60.0     9550       1         0       961   \n",
              "4           5         3         84.0    14260       1         0      1145   \n",
              "\n",
              "   2ndFlrSF  SalePrice  total year  \n",
              "0       854     208500          21  \n",
              "1         0     181500          48  \n",
              "2       866     223500          23  \n",
              "3       756     140000         109  \n",
              "4      1053     250000          24  "
            ]
          },
          "execution_count": 17,
          "metadata": {},
          "output_type": "execute_result"
        }
      ],
      "source": [
        "df.head()"
      ]
    },
    {
      "cell_type": "code",
      "execution_count": 40,
      "metadata": {
        "colab": {
          "base_uri": "https://localhost:8080/"
        },
        "id": "DOs3Ws8ihm9c",
        "outputId": "414dffb4-9699-43a8-e1e4-2da820792c12"
      },
      "outputs": [
        {
          "data": {
            "text/plain": [
              "(1201, 4)"
            ]
          },
          "execution_count": 40,
          "metadata": {},
          "output_type": "execute_result"
        }
      ],
      "source": [
        "#convert categorical values int sstacking and then into tensors\n",
        "ca_fea=np.stack([df['MSSubClass'],df['MSZoning'],df['Street'],df['LotShape']],1)\n",
        "ca_fea.shape"
      ]
    },
    {
      "cell_type": "code",
      "execution_count": 42,
      "metadata": {
        "colab": {
          "base_uri": "https://localhost:8080/"
        },
        "id": "tKmCv5qJVEfT",
        "outputId": "5d6fd9d2-d406-437a-965b-1dd3490e9e78"
      },
      "outputs": [
        {
          "data": {
            "text/plain": [
              "tensor([[5, 3, 1, 3],\n",
              "        [0, 3, 1, 3],\n",
              "        [5, 3, 1, 0],\n",
              "        ...,\n",
              "        [6, 3, 1, 3],\n",
              "        [0, 3, 1, 3],\n",
              "        [0, 3, 1, 3]])"
            ]
          },
          "execution_count": 42,
          "metadata": {},
          "output_type": "execute_result"
        }
      ],
      "source": [
        "#numpy to tensor\n",
        "import torch\n",
        "ca_fea=torch.tensor(ca_fea,dtype=torch.int64)\n",
        "ca_fea"
      ]
    },
    {
      "cell_type": "code",
      "execution_count": 20,
      "metadata": {
        "id": "nB3QCrkDVqjV"
      },
      "outputs": [],
      "source": [
        "cont_features=[]\n",
        "for i in df.columns:\n",
        "  if i in [\"MSSubClass\",\"MSZoning\",\"Street\",\"LotShape\",\"SalePrice\"]:\n",
        "    pass\n",
        "  else:\n",
        "    cont_features.append(i)"
      ]
    },
    {
      "cell_type": "code",
      "execution_count": 21,
      "metadata": {
        "colab": {
          "base_uri": "https://localhost:8080/"
        },
        "id": "wyC0pUboWhIC",
        "outputId": "c6212660-da26-46fb-9842-7f2df1517128"
      },
      "outputs": [
        {
          "data": {
            "text/plain": [
              "['LotFrontage', 'LotArea', '1stFlrSF', '2ndFlrSF', 'total year']"
            ]
          },
          "execution_count": 21,
          "metadata": {},
          "output_type": "execute_result"
        }
      ],
      "source": [
        "cont_features"
      ]
    },
    {
      "cell_type": "code",
      "execution_count": 22,
      "metadata": {
        "colab": {
          "base_uri": "https://localhost:8080/"
        },
        "id": "VKQ7xHUDWjkz",
        "outputId": "9612a278-8982-41dd-f83e-2f2cb1c01269"
      },
      "outputs": [
        {
          "data": {
            "text/plain": [
              "tensor([[   65.,  8450.,   856.,   854.,    21.],\n",
              "        [   80.,  9600.,  1262.,     0.,    48.],\n",
              "        [   68., 11250.,   920.,   866.,    23.],\n",
              "        ...,\n",
              "        [   66.,  9042.,  1188.,  1152.,    83.],\n",
              "        [   68.,  9717.,  1078.,     0.,    74.],\n",
              "        [   75.,  9937.,  1256.,     0.,    59.]])"
            ]
          },
          "execution_count": 22,
          "metadata": {},
          "output_type": "execute_result"
        }
      ],
      "source": [
        "cont_values=np.stack([df[i] for i in cont_features],1)\n",
        "cont_values=torch.tensor(cont_values,dtype=torch.float)\n",
        "cont_values"
      ]
    },
    {
      "cell_type": "code",
      "execution_count": 23,
      "metadata": {
        "colab": {
          "base_uri": "https://localhost:8080/"
        },
        "id": "-kxegmLAXICr",
        "outputId": "0fa05548-50fd-419b-b89d-a3b770286a08"
      },
      "outputs": [
        {
          "data": {
            "text/plain": [
              "torch.float32"
            ]
          },
          "execution_count": 23,
          "metadata": {},
          "output_type": "execute_result"
        }
      ],
      "source": [
        "cont_values.dtype"
      ]
    },
    {
      "cell_type": "code",
      "execution_count": 24,
      "metadata": {
        "colab": {
          "base_uri": "https://localhost:8080/"
        },
        "id": "kjj3qM0hjR9o",
        "outputId": "0c14b6c1-8bcd-4215-ce94-2e5daed0c3fc"
      },
      "outputs": [
        {
          "data": {
            "text/plain": [
              "tensor([[208500.],\n",
              "        [181500.],\n",
              "        [223500.],\n",
              "        ...,\n",
              "        [266500.],\n",
              "        [142125.],\n",
              "        [147500.]])"
            ]
          },
          "execution_count": 24,
          "metadata": {},
          "output_type": "execute_result"
        }
      ],
      "source": [
        "y=torch.tensor(df[\"SalePrice\"].values,dtype=torch.float).reshape(-1,1)\n",
        "y"
      ]
    },
    {
      "cell_type": "code",
      "execution_count": 25,
      "metadata": {
        "colab": {
          "base_uri": "https://localhost:8080/"
        },
        "id": "4zWSkUyLj5do",
        "outputId": "b9d5fbd0-2b0d-4fef-a7d9-aa94a6e44d1e"
      },
      "outputs": [
        {
          "name": "stdout",
          "output_type": "stream",
          "text": [
            "<class 'pandas.core.frame.DataFrame'>\n",
            "Index: 1201 entries, 0 to 1459\n",
            "Data columns (total 10 columns):\n",
            " #   Column       Non-Null Count  Dtype  \n",
            "---  ------       --------------  -----  \n",
            " 0   MSSubClass   1201 non-null   int64  \n",
            " 1   MSZoning     1201 non-null   int64  \n",
            " 2   LotFrontage  1201 non-null   float64\n",
            " 3   LotArea      1201 non-null   int64  \n",
            " 4   Street       1201 non-null   int64  \n",
            " 5   LotShape     1201 non-null   int64  \n",
            " 6   1stFlrSF     1201 non-null   int64  \n",
            " 7   2ndFlrSF     1201 non-null   int64  \n",
            " 8   SalePrice    1201 non-null   int64  \n",
            " 9   total year   1201 non-null   int64  \n",
            "dtypes: float64(1), int64(9)\n",
            "memory usage: 103.2 KB\n"
          ]
        }
      ],
      "source": [
        "df.info()"
      ]
    },
    {
      "cell_type": "code",
      "execution_count": 26,
      "metadata": {
        "colab": {
          "base_uri": "https://localhost:8080/"
        },
        "id": "G7b1XLurkJzg",
        "outputId": "f3c4cdfa-d47e-4a5d-e310-1c978c04bb83"
      },
      "outputs": [
        {
          "data": {
            "text/plain": [
              "(torch.Size([1201, 4]), torch.Size([1201, 5]), torch.Size([1201, 1]))"
            ]
          },
          "execution_count": 26,
          "metadata": {},
          "output_type": "execute_result"
        }
      ],
      "source": [
        "ca_fea.shape,cont_values.shape,y.shape"
      ]
    },
    {
      "cell_type": "code",
      "execution_count": 27,
      "metadata": {
        "id": "hcRQyWh2kyqB"
      },
      "outputs": [],
      "source": [
        "#embedding is only for categorical features\n",
        "cat_dims=[len(df[col].unique()) for col in [\"MSSu bClass\",\"MSZoning\",\"Street\",\"LotShape\"]]"
      ]
    },
    {
      "cell_type": "code",
      "execution_count": 28,
      "metadata": {
        "colab": {
          "base_uri": "https://localhost:8080/"
        },
        "id": "s3zw5nr_mNyT",
        "outputId": "88fa070b-8d44-422e-c67b-2167f6fbcb67"
      },
      "outputs": [
        {
          "data": {
            "text/plain": [
              "[15, 5, 2, 4]"
            ]
          },
          "execution_count": 28,
          "metadata": {},
          "output_type": "execute_result"
        }
      ],
      "source": [
        "cat_dims"
      ]
    },
    {
      "cell_type": "code",
      "execution_count": 29,
      "metadata": {
        "id": "V9YceSJUmSV7"
      },
      "outputs": [],
      "source": [
        "#output dimension should be setbased on the input dimension (min(50,feature dimensio/2))\n",
        "embedding_dim=[(x,min(50,(x+1)//2)) for x in cat_dims]"
      ]
    },
    {
      "cell_type": "code",
      "execution_count": 34,
      "metadata": {
        "colab": {
          "base_uri": "https://localhost:8080/"
        },
        "id": "2u4Zw0KiVXQ-",
        "outputId": "e7d2bb1c-2ef0-4765-f196-754c10e949c1"
      },
      "outputs": [
        {
          "data": {
            "text/plain": [
              "[(15, 8), (5, 3), (2, 1), (4, 2)]"
            ]
          },
          "execution_count": 34,
          "metadata": {},
          "output_type": "execute_result"
        }
      ],
      "source": [
        "##preprocessing step\n",
        "embedding_dim"
      ]
    },
    {
      "cell_type": "code",
      "execution_count": 33,
      "metadata": {
        "colab": {
          "base_uri": "https://localhost:8080/"
        },
        "id": "2-P8Zen2Vbeb",
        "outputId": "d76cd496-15b6-4679-bfd3-4a352c209f4c"
      },
      "outputs": [
        {
          "data": {
            "text/plain": [
              "ModuleList(\n",
              "  (0): Embedding(15, 8)\n",
              "  (1): Embedding(5, 3)\n",
              "  (2): Embedding(2, 1)\n",
              "  (3): Embedding(4, 2)\n",
              ")"
            ]
          },
          "execution_count": 33,
          "metadata": {},
          "output_type": "execute_result"
        }
      ],
      "source": [
        "import torch\n",
        "import torch.nn as nn\n",
        "import torch.nn.functional as F\n",
        "embed_representation=nn.ModuleList([nn.Embedding(inp,out) for inp,out in embedding_dim])\n",
        "embed_representation"
      ]
    },
    {
      "cell_type": "code",
      "execution_count": 36,
      "metadata": {
        "colab": {
          "base_uri": "https://localhost:8080/"
        },
        "id": "Y64w8ry6WQpn",
        "outputId": "065ce66e-6443-49c2-ccea-7b6e2dc57fdc"
      },
      "outputs": [
        {
          "data": {
            "text/plain": [
              "tensor([[5, 3, 1, 3],\n",
              "        [0, 3, 1, 3],\n",
              "        [5, 3, 1, 0],\n",
              "        ...,\n",
              "        [6, 3, 1, 3],\n",
              "        [0, 3, 1, 3],\n",
              "        [0, 3, 1, 3]])"
            ]
          },
          "execution_count": 36,
          "metadata": {},
          "output_type": "execute_result"
        }
      ],
      "source": [
        "ca_fea"
      ]
    },
    {
      "cell_type": "code",
      "execution_count": 37,
      "metadata": {
        "colab": {
          "base_uri": "https://localhost:8080/"
        },
        "id": "S1daquvFdiMs",
        "outputId": "aa1bd688-a990-45c3-b318-ed2ca03d0474"
      },
      "outputs": [
        {
          "data": {
            "text/plain": [
              "tensor([[5, 3, 1, 3],\n",
              "        [0, 3, 1, 3],\n",
              "        [5, 3, 1, 0],\n",
              "        [6, 3, 1, 0]])"
            ]
          },
          "execution_count": 37,
          "metadata": {},
          "output_type": "execute_result"
        }
      ],
      "source": [
        "cat_features=ca_fea[:4]\n",
        "cat_features"
      ]
    },
    {
      "cell_type": "code",
      "execution_count": 43,
      "metadata": {
        "id": "L6C9DK0Rdv_i"
      },
      "outputs": [],
      "source": [
        "embedding_sets=[]\n",
        "for i,e in enumerate(embed_representation):\n",
        "  embedding_sets.append(e(ca_fea[:,i]))"
      ]
    },
    {
      "cell_type": "code",
      "execution_count": 44,
      "metadata": {
        "colab": {
          "base_uri": "https://localhost:8080/"
        },
        "id": "fK2oQal3fJX6",
        "outputId": "9bb12c80-4d24-4d79-9677-8818e9e73fd6"
      },
      "outputs": [
        {
          "data": {
            "text/plain": [
              "[tensor([[-2.2030, -0.6355,  0.0680,  ...,  0.2769, -0.7026,  0.4852],\n",
              "         [-1.4390, -2.8096,  0.0253,  ..., -1.0093,  0.7444, -0.6126],\n",
              "         [-2.2030, -0.6355,  0.0680,  ...,  0.2769, -0.7026,  0.4852],\n",
              "         ...,\n",
              "         [ 0.6187, -0.8194,  1.3855,  ...,  0.8997, -0.2349, -0.6756],\n",
              "         [-1.4390, -2.8096,  0.0253,  ..., -1.0093,  0.7444, -0.6126],\n",
              "         [-1.4390, -2.8096,  0.0253,  ..., -1.0093,  0.7444, -0.6126]],\n",
              "        grad_fn=<EmbeddingBackward0>),\n",
              " tensor([[-0.0096, -0.1067, -0.0808],\n",
              "         [-0.0096, -0.1067, -0.0808],\n",
              "         [-0.0096, -0.1067, -0.0808],\n",
              "         ...,\n",
              "         [-0.0096, -0.1067, -0.0808],\n",
              "         [-0.0096, -0.1067, -0.0808],\n",
              "         [-0.0096, -0.1067, -0.0808]], grad_fn=<EmbeddingBackward0>),\n",
              " tensor([[-0.3879],\n",
              "         [-0.3879],\n",
              "         [-0.3879],\n",
              "         ...,\n",
              "         [-0.3879],\n",
              "         [-0.3879],\n",
              "         [-0.3879]], grad_fn=<EmbeddingBackward0>),\n",
              " tensor([[ 0.8418, -1.6468],\n",
              "         [ 0.8418, -1.6468],\n",
              "         [ 0.0058,  0.5936],\n",
              "         ...,\n",
              "         [ 0.8418, -1.6468],\n",
              "         [ 0.8418, -1.6468],\n",
              "         [ 0.8418, -1.6468]], grad_fn=<EmbeddingBackward0>)]"
            ]
          },
          "execution_count": 44,
          "metadata": {},
          "output_type": "execute_result"
        }
      ],
      "source": [
        "embedding_sets"
      ]
    },
    {
      "cell_type": "code",
      "execution_count": 46,
      "metadata": {
        "colab": {
          "base_uri": "https://localhost:8080/"
        },
        "id": "i7wjS0MYfLGY",
        "outputId": "e9b26988-cf9f-441a-f7cc-2b8a5089dc5d"
      },
      "outputs": [
        {
          "data": {
            "text/plain": [
              "tensor([[-2.2030, -0.6355,  0.0680,  ..., -0.3879,  0.8418, -1.6468],\n",
              "        [-1.4390, -2.8096,  0.0253,  ..., -0.3879,  0.8418, -1.6468],\n",
              "        [-2.2030, -0.6355,  0.0680,  ..., -0.3879,  0.0058,  0.5936],\n",
              "        ...,\n",
              "        [ 0.6187, -0.8194,  1.3855,  ..., -0.3879,  0.8418, -1.6468],\n",
              "        [-1.4390, -2.8096,  0.0253,  ..., -0.3879,  0.8418, -1.6468],\n",
              "        [-1.4390, -2.8096,  0.0253,  ..., -0.3879,  0.8418, -1.6468]],\n",
              "       grad_fn=<CatBackward0>)"
            ]
          },
          "execution_count": 46,
          "metadata": {},
          "output_type": "execute_result"
        }
      ],
      "source": [
        "#stack and concat are similar but stack is used for numpy arrays and it is already in\n",
        "#tensor so in tensor we have concat library so we used it\n",
        "z=torch.cat(embedding_sets,1)\n",
        "z"
      ]
    },
    {
      "cell_type": "code",
      "execution_count": 47,
      "metadata": {
        "id": "jRIWVxIagzD5"
      },
      "outputs": [],
      "source": [
        "dropout=nn.Dropout(.4)"
      ]
    },
    {
      "cell_type": "code",
      "execution_count": 48,
      "metadata": {
        "colab": {
          "base_uri": "https://localhost:8080/"
        },
        "id": "m7DeXapyh5WL",
        "outputId": "df74be6a-ba88-4747-d151-e795a237ffa9"
      },
      "outputs": [
        {
          "data": {
            "text/plain": [
              "tensor([[-0.0000, -0.0000,  0.0000,  ..., -0.0000,  1.4030, -2.7446],\n",
              "        [-2.3983, -4.6827,  0.0000,  ..., -0.6465,  1.4030, -2.7446],\n",
              "        [-3.6716, -1.0592,  0.0000,  ..., -0.6465,  0.0097,  0.0000],\n",
              "        ...,\n",
              "        [ 1.0312, -1.3657,  0.0000,  ..., -0.6465,  0.0000, -2.7446],\n",
              "        [-2.3983, -0.0000,  0.0000,  ..., -0.6465,  0.0000, -0.0000],\n",
              "        [-2.3983, -4.6827,  0.0421,  ..., -0.6465,  1.4030, -0.0000]],\n",
              "       grad_fn=<MulBackward0>)"
            ]
          },
          "execution_count": 48,
          "metadata": {},
          "output_type": "execute_result"
        }
      ],
      "source": [
        "final_embed=dropout(z)\n",
        "final_embed"
      ]
    },
    {
      "cell_type": "code",
      "execution_count": 57,
      "metadata": {
        "id": "ASBVhDqdiLZo"
      },
      "outputs": [],
      "source": [
        " class FeedForwardNN(nn.Module):\n",
        "  def __init__(self,embedding_dim,n_conts,out_sz,layers,p=0.5):\n",
        "    super().__init__()\n",
        "    self.embeds=nn.ModuleList([nn.Embedding(inp,out) for inp,out in embedding_dim])\n",
        "    self.emb_drop=nn.Dropout(p)\n",
        "    self.bn_cont=nn.BatchNorm1d(n_conts)\n",
        "\n",
        "    layerlist=[]\n",
        "    n_emb=sum((out for inp,out in embedding_dim))\n",
        "    n_in=n_emb+n_conts\n",
        "    for i in layers:\n",
        "      layerlist.append(nn.Linear(n_in,i))\n",
        "      layerlist.append(nn.ReLU(inplace=True))\n",
        "      layerlist.append(nn.BatchNorm1d(i))\n",
        "      layerlist.append(nn.Dropout(p))\n",
        "      n_in=i\n",
        "    layerlist.append(nn.Linear(layers[-1],out_sz))\n",
        "    self.layers=nn.Sequential(*layerlist)\n",
        "  def forward(self,x_cat,x_cont):\n",
        "    embeddings=[]\n",
        "    for i,e in enumerate(self.embeds):\n",
        "      embeddings.append(e(x_cat[:,i]))\n",
        "    x=torch.cat(embeddings,1)\n",
        "    x=self.emb_drop(x)\n",
        "    x_cont=self.bn_cont(x_cont)\n",
        "    x=torch.cat([x,x_cont],1)\n",
        "    x=self.layers(x)\n",
        "    return x\n"
      ]
    },
    {
      "cell_type": "code",
      "execution_count": 52,
      "metadata": {
        "colab": {
          "base_uri": "https://localhost:8080/"
        },
        "id": "8c7M_YSqrHUO",
        "outputId": "d19a1d4c-0551-4b3b-aace-ebf0c96e74bc"
      },
      "outputs": [
        {
          "data": {
            "text/plain": [
              "5"
            ]
          },
          "execution_count": 52,
          "metadata": {},
          "output_type": "execute_result"
        }
      ],
      "source": [
        "len(cont_features)"
      ]
    },
    {
      "cell_type": "code",
      "execution_count": 58,
      "metadata": {
        "id": "R3o8scX9rJvz"
      },
      "outputs": [],
      "source": [
        "torch.manual_seed(100)\n",
        "model=FeedForwardNN(embedding_dim,len(cont_features),1,[100,50],0.4)"
      ]
    },
    {
      "cell_type": "code",
      "execution_count": 59,
      "metadata": {
        "colab": {
          "base_uri": "https://localhost:8080/"
        },
        "id": "1N9EyZISr9ky",
        "outputId": "62a51885-7c9f-45e3-d155-01809f201190"
      },
      "outputs": [
        {
          "data": {
            "text/plain": [
              "FeedForwardNN(\n",
              "  (embeds): ModuleList(\n",
              "    (0): Embedding(15, 8)\n",
              "    (1): Embedding(5, 3)\n",
              "    (2): Embedding(2, 1)\n",
              "    (3): Embedding(4, 2)\n",
              "  )\n",
              "  (emb_drop): Dropout(p=0.4, inplace=False)\n",
              "  (bn_cont): BatchNorm1d(5, eps=1e-05, momentum=0.1, affine=True, track_running_stats=True)\n",
              "  (layers): Sequential(\n",
              "    (0): Linear(in_features=19, out_features=100, bias=True)\n",
              "    (1): ReLU(inplace=True)\n",
              "    (2): BatchNorm1d(100, eps=1e-05, momentum=0.1, affine=True, track_running_stats=True)\n",
              "    (3): Dropout(p=0.4, inplace=False)\n",
              "    (4): Linear(in_features=100, out_features=50, bias=True)\n",
              "    (5): ReLU(inplace=True)\n",
              "    (6): BatchNorm1d(50, eps=1e-05, momentum=0.1, affine=True, track_running_stats=True)\n",
              "    (7): Dropout(p=0.4, inplace=False)\n",
              "    (8): Linear(in_features=50, out_features=1, bias=True)\n",
              "  )\n",
              ")"
            ]
          },
          "execution_count": 59,
          "metadata": {},
          "output_type": "execute_result"
        }
      ],
      "source": [
        "model"
      ]
    },
    {
      "cell_type": "markdown",
      "metadata": {
        "id": "G4sTLLs4ssfL"
      },
      "source": [
        "define loss"
      ]
    },
    {
      "cell_type": "code",
      "execution_count": 60,
      "metadata": {
        "id": "dUGu5qVAsZPT"
      },
      "outputs": [],
      "source": [
        "#later convert to rmse\n",
        "loss_function=nn.MSELoss()\n",
        "optimizer=torch.optim.Adam(model.parameters(),lr=0.01)"
      ]
    },
    {
      "cell_type": "code",
      "execution_count": 61,
      "metadata": {
        "colab": {
          "base_uri": "https://localhost:8080/"
        },
        "id": "cY364cLktAcu",
        "outputId": "6acf6008-7fe5-43b3-a1b1-32234e3e2f43"
      },
      "outputs": [
        {
          "data": {
            "text/plain": [
              "(1201, 10)"
            ]
          },
          "execution_count": 61,
          "metadata": {},
          "output_type": "execute_result"
        }
      ],
      "source": [
        "df.shape"
      ]
    },
    {
      "cell_type": "code",
      "execution_count": 63,
      "metadata": {
        "colab": {
          "base_uri": "https://localhost:8080/"
        },
        "id": "a_ndJG3QtBMd",
        "outputId": "c1aa3d2e-0586-4187-f46b-a7f32b8afe70"
      },
      "outputs": [
        {
          "data": {
            "text/plain": [
              "torch.Size([1201, 5])"
            ]
          },
          "execution_count": 63,
          "metadata": {},
          "output_type": "execute_result"
        }
      ],
      "source": [
        "cont_values.shape"
      ]
    },
    {
      "cell_type": "code",
      "execution_count": 66,
      "metadata": {
        "id": "Jy_C7NfftHbB"
      },
      "outputs": [],
      "source": [
        "batch_size=1200\n",
        "test_size=int(batch_size*0.15)\n",
        "train_categorical=ca_fea[:batch_size-test_size]\n",
        "test_categorical=ca_fea[batch_size-test_size:batch_size]\n",
        "train_cont=cont_values[:batch_size-test_size]\n",
        "test_cont=cont_values[batch_size-test_size:batch_size]\n",
        "y_train=y[:batch_size-test_size]\n",
        "y_test=y[batch_size-test_size:batch_size]"
      ]
    },
    {
      "cell_type": "code",
      "execution_count": 67,
      "metadata": {
        "colab": {
          "base_uri": "https://localhost:8080/"
        },
        "id": "tQNA33tRtvdq",
        "outputId": "5c051ac9-d69d-4a84-95bc-62267e94db98"
      },
      "outputs": [
        {
          "data": {
            "text/plain": [
              "1020"
            ]
          },
          "execution_count": 67,
          "metadata": {},
          "output_type": "execute_result"
        }
      ],
      "source": [
        "len(train_categorical)"
      ]
    },
    {
      "cell_type": "code",
      "execution_count": 69,
      "metadata": {
        "colab": {
          "base_uri": "https://localhost:8080/"
        },
        "id": "6vJpo6wXuT4-",
        "outputId": "afc9bffc-276b-41ce-f7f2-c08a4ddc9f04"
      },
      "outputs": [
        {
          "name": "stdout",
          "output_type": "stream",
          "text": [
            "Epoch number: 1 and the loss : 184305.921875\n",
            "Epoch number: 11 and the loss : 183996.234375\n",
            "Epoch number: 21 and the loss : 183810.953125\n",
            "Epoch number: 31 and the loss : 183378.640625\n",
            "Epoch number: 41 and the loss : 183223.578125\n",
            "Epoch number: 51 and the loss : 182900.5\n",
            "Epoch number: 61 and the loss : 182555.6875\n",
            "Epoch number: 71 and the loss : 182297.84375\n",
            "Epoch number: 81 and the loss : 181895.390625\n",
            "Epoch number: 91 and the loss : 181483.578125\n",
            "Epoch number: 101 and the loss : 181314.421875\n",
            "Epoch number: 111 and the loss : 180766.671875\n",
            "Epoch number: 121 and the loss : 180480.40625\n",
            "Epoch number: 131 and the loss : 180428.65625\n",
            "Epoch number: 141 and the loss : 179885.125\n",
            "Epoch number: 151 and the loss : 179518.03125\n",
            "Epoch number: 161 and the loss : 179353.0\n",
            "Epoch number: 171 and the loss : 178929.53125\n",
            "Epoch number: 181 and the loss : 178564.34375\n",
            "Epoch number: 191 and the loss : 178108.15625\n",
            "Epoch number: 201 and the loss : 178094.046875\n",
            "Epoch number: 211 and the loss : 177449.015625\n",
            "Epoch number: 221 and the loss : 177466.859375\n",
            "Epoch number: 231 and the loss : 176578.765625\n",
            "Epoch number: 241 and the loss : 176307.34375\n",
            "Epoch number: 251 and the loss : 175531.828125\n",
            "Epoch number: 261 and the loss : 175557.15625\n",
            "Epoch number: 271 and the loss : 175210.09375\n",
            "Epoch number: 281 and the loss : 174915.296875\n",
            "Epoch number: 291 and the loss : 174502.609375\n",
            "Epoch number: 301 and the loss : 174203.890625\n",
            "Epoch number: 311 and the loss : 173671.21875\n",
            "Epoch number: 321 and the loss : 173119.0\n",
            "Epoch number: 331 and the loss : 173413.1875\n",
            "Epoch number: 341 and the loss : 172601.953125\n",
            "Epoch number: 351 and the loss : 172251.5\n",
            "Epoch number: 361 and the loss : 171997.28125\n",
            "Epoch number: 371 and the loss : 171827.78125\n",
            "Epoch number: 381 and the loss : 171285.25\n",
            "Epoch number: 391 and the loss : 170352.859375\n",
            "Epoch number: 401 and the loss : 170483.765625\n",
            "Epoch number: 411 and the loss : 169662.859375\n",
            "Epoch number: 421 and the loss : 169862.546875\n",
            "Epoch number: 431 and the loss : 169448.203125\n",
            "Epoch number: 441 and the loss : 168665.3125\n",
            "Epoch number: 451 and the loss : 168575.328125\n",
            "Epoch number: 461 and the loss : 167973.359375\n",
            "Epoch number: 471 and the loss : 167571.5625\n",
            "Epoch number: 481 and the loss : 167316.28125\n",
            "Epoch number: 491 and the loss : 166603.40625\n",
            "Epoch number: 501 and the loss : 166359.65625\n",
            "Epoch number: 511 and the loss : 165597.75\n",
            "Epoch number: 521 and the loss : 165810.625\n",
            "Epoch number: 531 and the loss : 165266.515625\n",
            "Epoch number: 541 and the loss : 164554.359375\n",
            "Epoch number: 551 and the loss : 164518.703125\n",
            "Epoch number: 561 and the loss : 163734.046875\n",
            "Epoch number: 571 and the loss : 163477.578125\n",
            "Epoch number: 581 and the loss : 163091.734375\n",
            "Epoch number: 591 and the loss : 162938.046875\n",
            "Epoch number: 601 and the loss : 162409.46875\n",
            "Epoch number: 611 and the loss : 161728.953125\n",
            "Epoch number: 621 and the loss : 160786.25\n",
            "Epoch number: 631 and the loss : 160842.5625\n",
            "Epoch number: 641 and the loss : 160648.171875\n",
            "Epoch number: 651 and the loss : 160143.859375\n",
            "Epoch number: 661 and the loss : 160201.09375\n",
            "Epoch number: 671 and the loss : 159046.4375\n",
            "Epoch number: 681 and the loss : 158381.859375\n",
            "Epoch number: 691 and the loss : 158259.640625\n",
            "Epoch number: 701 and the loss : 157589.25\n",
            "Epoch number: 711 and the loss : 157319.109375\n",
            "Epoch number: 721 and the loss : 157132.828125\n",
            "Epoch number: 731 and the loss : 156664.125\n",
            "Epoch number: 741 and the loss : 156266.921875\n",
            "Epoch number: 751 and the loss : 156078.34375\n",
            "Epoch number: 761 and the loss : 154750.890625\n",
            "Epoch number: 771 and the loss : 154370.15625\n",
            "Epoch number: 781 and the loss : 154074.296875\n",
            "Epoch number: 791 and the loss : 153734.546875\n",
            "Epoch number: 801 and the loss : 153181.234375\n",
            "Epoch number: 811 and the loss : 152776.53125\n",
            "Epoch number: 821 and the loss : 152324.484375\n",
            "Epoch number: 831 and the loss : 152419.671875\n",
            "Epoch number: 841 and the loss : 151634.96875\n",
            "Epoch number: 851 and the loss : 150685.6875\n",
            "Epoch number: 861 and the loss : 150739.828125\n",
            "Epoch number: 871 and the loss : 150052.484375\n",
            "Epoch number: 881 and the loss : 149206.25\n",
            "Epoch number: 891 and the loss : 148394.890625\n",
            "Epoch number: 901 and the loss : 148561.421875\n",
            "Epoch number: 911 and the loss : 148921.609375\n",
            "Epoch number: 921 and the loss : 147745.203125\n",
            "Epoch number: 931 and the loss : 147330.671875\n",
            "Epoch number: 941 and the loss : 146585.0625\n",
            "Epoch number: 951 and the loss : 146518.03125\n",
            "Epoch number: 961 and the loss : 145927.453125\n",
            "Epoch number: 971 and the loss : 145521.0\n",
            "Epoch number: 981 and the loss : 145691.09375\n",
            "Epoch number: 991 and the loss : 144483.09375\n",
            "Epoch number: 1001 and the loss : 144118.578125\n",
            "Epoch number: 1011 and the loss : 143011.421875\n",
            "Epoch number: 1021 and the loss : 142937.796875\n",
            "Epoch number: 1031 and the loss : 143114.171875\n",
            "Epoch number: 1041 and the loss : 142017.6875\n",
            "Epoch number: 1051 and the loss : 141052.71875\n",
            "Epoch number: 1061 and the loss : 140921.609375\n",
            "Epoch number: 1071 and the loss : 140997.578125\n",
            "Epoch number: 1081 and the loss : 139723.203125\n",
            "Epoch number: 1091 and the loss : 139701.9375\n",
            "Epoch number: 1101 and the loss : 139330.375\n",
            "Epoch number: 1111 and the loss : 138658.171875\n",
            "Epoch number: 1121 and the loss : 137860.078125\n",
            "Epoch number: 1131 and the loss : 137894.8125\n",
            "Epoch number: 1141 and the loss : 137110.703125\n",
            "Epoch number: 1151 and the loss : 136580.109375\n",
            "Epoch number: 1161 and the loss : 136498.09375\n",
            "Epoch number: 1171 and the loss : 137601.78125\n",
            "Epoch number: 1181 and the loss : 135872.890625\n",
            "Epoch number: 1191 and the loss : 134768.046875\n",
            "Epoch number: 1201 and the loss : 134155.21875\n",
            "Epoch number: 1211 and the loss : 133819.109375\n",
            "Epoch number: 1221 and the loss : 132777.40625\n",
            "Epoch number: 1231 and the loss : 132565.46875\n",
            "Epoch number: 1241 and the loss : 131421.84375\n",
            "Epoch number: 1251 and the loss : 131565.21875\n",
            "Epoch number: 1261 and the loss : 130279.421875\n",
            "Epoch number: 1271 and the loss : 130293.34375\n",
            "Epoch number: 1281 and the loss : 130218.7578125\n",
            "Epoch number: 1291 and the loss : 129330.7734375\n",
            "Epoch number: 1301 and the loss : 128935.6796875\n",
            "Epoch number: 1311 and the loss : 128929.5\n",
            "Epoch number: 1321 and the loss : 128402.0859375\n",
            "Epoch number: 1331 and the loss : 128559.3125\n",
            "Epoch number: 1341 and the loss : 127516.5625\n",
            "Epoch number: 1351 and the loss : 126386.7890625\n",
            "Epoch number: 1361 and the loss : 126216.4140625\n",
            "Epoch number: 1371 and the loss : 125668.578125\n",
            "Epoch number: 1381 and the loss : 124743.21875\n",
            "Epoch number: 1391 and the loss : 124887.96875\n",
            "Epoch number: 1401 and the loss : 124342.1640625\n",
            "Epoch number: 1411 and the loss : 123264.8515625\n",
            "Epoch number: 1421 and the loss : 123194.375\n",
            "Epoch number: 1431 and the loss : 122338.09375\n",
            "Epoch number: 1441 and the loss : 122389.234375\n",
            "Epoch number: 1451 and the loss : 121368.3359375\n",
            "Epoch number: 1461 and the loss : 120115.5078125\n",
            "Epoch number: 1471 and the loss : 120648.359375\n",
            "Epoch number: 1481 and the loss : 120401.7890625\n",
            "Epoch number: 1491 and the loss : 120529.46875\n",
            "Epoch number: 1501 and the loss : 119552.921875\n",
            "Epoch number: 1511 and the loss : 118698.40625\n",
            "Epoch number: 1521 and the loss : 117635.40625\n",
            "Epoch number: 1531 and the loss : 118243.1640625\n",
            "Epoch number: 1541 and the loss : 117489.75\n",
            "Epoch number: 1551 and the loss : 118490.4375\n",
            "Epoch number: 1561 and the loss : 116311.8046875\n",
            "Epoch number: 1571 and the loss : 115700.7109375\n",
            "Epoch number: 1581 and the loss : 115899.890625\n",
            "Epoch number: 1591 and the loss : 115395.4453125\n",
            "Epoch number: 1601 and the loss : 114303.8125\n",
            "Epoch number: 1611 and the loss : 114257.703125\n",
            "Epoch number: 1621 and the loss : 114542.375\n",
            "Epoch number: 1631 and the loss : 112408.7421875\n",
            "Epoch number: 1641 and the loss : 112056.5625\n",
            "Epoch number: 1651 and the loss : 112113.8203125\n",
            "Epoch number: 1661 and the loss : 111381.078125\n",
            "Epoch number: 1671 and the loss : 110812.953125\n",
            "Epoch number: 1681 and the loss : 109957.1640625\n",
            "Epoch number: 1691 and the loss : 109330.484375\n",
            "Epoch number: 1701 and the loss : 109746.25\n",
            "Epoch number: 1711 and the loss : 109066.1171875\n",
            "Epoch number: 1721 and the loss : 108810.65625\n",
            "Epoch number: 1731 and the loss : 108422.3671875\n",
            "Epoch number: 1741 and the loss : 107090.1328125\n",
            "Epoch number: 1751 and the loss : 105760.8828125\n",
            "Epoch number: 1761 and the loss : 106064.5234375\n",
            "Epoch number: 1771 and the loss : 106503.7890625\n",
            "Epoch number: 1781 and the loss : 105218.5859375\n",
            "Epoch number: 1791 and the loss : 104659.3125\n",
            "Epoch number: 1801 and the loss : 103568.9453125\n",
            "Epoch number: 1811 and the loss : 103924.7421875\n",
            "Epoch number: 1821 and the loss : 103022.3046875\n",
            "Epoch number: 1831 and the loss : 102856.96875\n",
            "Epoch number: 1841 and the loss : 102519.3359375\n",
            "Epoch number: 1851 and the loss : 101262.03125\n",
            "Epoch number: 1861 and the loss : 101809.1328125\n",
            "Epoch number: 1871 and the loss : 100586.953125\n",
            "Epoch number: 1881 and the loss : 100741.4375\n",
            "Epoch number: 1891 and the loss : 100314.0\n",
            "Epoch number: 1901 and the loss : 98613.96875\n",
            "Epoch number: 1911 and the loss : 100177.0859375\n",
            "Epoch number: 1921 and the loss : 98115.0546875\n",
            "Epoch number: 1931 and the loss : 98823.859375\n",
            "Epoch number: 1941 and the loss : 96919.4609375\n",
            "Epoch number: 1951 and the loss : 100582.203125\n",
            "Epoch number: 1961 and the loss : 96504.1875\n",
            "Epoch number: 1971 and the loss : 95532.8828125\n",
            "Epoch number: 1981 and the loss : 95124.328125\n",
            "Epoch number: 1991 and the loss : 94242.40625\n",
            "Epoch number: 2001 and the loss : 93849.421875\n",
            "Epoch number: 2011 and the loss : 94113.9296875\n",
            "Epoch number: 2021 and the loss : 92982.8046875\n",
            "Epoch number: 2031 and the loss : 94180.4921875\n",
            "Epoch number: 2041 and the loss : 92615.0\n",
            "Epoch number: 2051 and the loss : 91445.8984375\n",
            "Epoch number: 2061 and the loss : 92068.640625\n",
            "Epoch number: 2071 and the loss : 91003.1953125\n",
            "Epoch number: 2081 and the loss : 90794.0\n",
            "Epoch number: 2091 and the loss : 89629.390625\n",
            "Epoch number: 2101 and the loss : 89211.25\n",
            "Epoch number: 2111 and the loss : 88998.9296875\n",
            "Epoch number: 2121 and the loss : 89284.2578125\n",
            "Epoch number: 2131 and the loss : 87832.21875\n",
            "Epoch number: 2141 and the loss : 87462.7578125\n",
            "Epoch number: 2151 and the loss : 87668.9765625\n",
            "Epoch number: 2161 and the loss : 86074.3671875\n",
            "Epoch number: 2171 and the loss : 86729.4375\n",
            "Epoch number: 2181 and the loss : 85694.4296875\n",
            "Epoch number: 2191 and the loss : 84891.1953125\n",
            "Epoch number: 2201 and the loss : 84585.5\n",
            "Epoch number: 2211 and the loss : 84137.90625\n",
            "Epoch number: 2221 and the loss : 82766.2890625\n",
            "Epoch number: 2231 and the loss : 84009.4453125\n",
            "Epoch number: 2241 and the loss : 82086.40625\n",
            "Epoch number: 2251 and the loss : 81433.203125\n",
            "Epoch number: 2261 and the loss : 81578.6953125\n",
            "Epoch number: 2271 and the loss : 82034.7734375\n",
            "Epoch number: 2281 and the loss : 81194.71875\n",
            "Epoch number: 2291 and the loss : 80834.03125\n",
            "Epoch number: 2301 and the loss : 79823.5390625\n",
            "Epoch number: 2311 and the loss : 79363.421875\n",
            "Epoch number: 2321 and the loss : 79271.359375\n",
            "Epoch number: 2331 and the loss : 78592.609375\n",
            "Epoch number: 2341 and the loss : 77528.8046875\n",
            "Epoch number: 2351 and the loss : 76892.4375\n",
            "Epoch number: 2361 and the loss : 76627.234375\n",
            "Epoch number: 2371 and the loss : 76456.640625\n",
            "Epoch number: 2381 and the loss : 76019.890625\n",
            "Epoch number: 2391 and the loss : 74528.6640625\n",
            "Epoch number: 2401 and the loss : 74573.1328125\n",
            "Epoch number: 2411 and the loss : 74396.640625\n",
            "Epoch number: 2421 and the loss : 73599.6953125\n",
            "Epoch number: 2431 and the loss : 73679.34375\n",
            "Epoch number: 2441 and the loss : 72344.71875\n",
            "Epoch number: 2451 and the loss : 72670.8671875\n",
            "Epoch number: 2461 and the loss : 72040.5078125\n",
            "Epoch number: 2471 and the loss : 70639.296875\n",
            "Epoch number: 2481 and the loss : 73639.4140625\n",
            "Epoch number: 2491 and the loss : 70623.609375\n",
            "Epoch number: 2501 and the loss : 68966.7109375\n",
            "Epoch number: 2511 and the loss : 69065.4140625\n",
            "Epoch number: 2521 and the loss : 68953.2109375\n",
            "Epoch number: 2531 and the loss : 68271.4609375\n",
            "Epoch number: 2541 and the loss : 68470.4765625\n",
            "Epoch number: 2551 and the loss : 67731.203125\n",
            "Epoch number: 2561 and the loss : 66268.09375\n",
            "Epoch number: 2571 and the loss : 66817.2578125\n",
            "Epoch number: 2581 and the loss : 65443.9140625\n",
            "Epoch number: 2591 and the loss : 65666.03125\n",
            "Epoch number: 2601 and the loss : 64764.54296875\n",
            "Epoch number: 2611 and the loss : 64975.00390625\n",
            "Epoch number: 2621 and the loss : 65163.17578125\n",
            "Epoch number: 2631 and the loss : 65650.5546875\n",
            "Epoch number: 2641 and the loss : 64467.4140625\n",
            "Epoch number: 2651 and the loss : 62852.30859375\n",
            "Epoch number: 2661 and the loss : 63248.8828125\n",
            "Epoch number: 2671 and the loss : 62940.515625\n",
            "Epoch number: 2681 and the loss : 61003.4765625\n",
            "Epoch number: 2691 and the loss : 61037.77734375\n",
            "Epoch number: 2701 and the loss : 59747.1796875\n",
            "Epoch number: 2711 and the loss : 61423.9609375\n",
            "Epoch number: 2721 and the loss : 59974.890625\n",
            "Epoch number: 2731 and the loss : 57585.265625\n",
            "Epoch number: 2741 and the loss : 61467.453125\n",
            "Epoch number: 2751 and the loss : 58791.125\n",
            "Epoch number: 2761 and the loss : 58536.6953125\n",
            "Epoch number: 2771 and the loss : 56782.3359375\n",
            "Epoch number: 2781 and the loss : 56175.8828125\n",
            "Epoch number: 2791 and the loss : 56495.734375\n",
            "Epoch number: 2801 and the loss : 55456.56640625\n",
            "Epoch number: 2811 and the loss : 55241.27734375\n",
            "Epoch number: 2821 and the loss : 56480.61328125\n",
            "Epoch number: 2831 and the loss : 54158.34375\n",
            "Epoch number: 2841 and the loss : 52883.47265625\n",
            "Epoch number: 2851 and the loss : 55335.85546875\n",
            "Epoch number: 2861 and the loss : 54524.51953125\n",
            "Epoch number: 2871 and the loss : 52306.59765625\n",
            "Epoch number: 2881 and the loss : 51852.29296875\n",
            "Epoch number: 2891 and the loss : 50374.0078125\n",
            "Epoch number: 2901 and the loss : 52461.45703125\n",
            "Epoch number: 2911 and the loss : 52079.4921875\n",
            "Epoch number: 2921 and the loss : 51012.12109375\n",
            "Epoch number: 2931 and the loss : 50420.3671875\n",
            "Epoch number: 2941 and the loss : 53061.7734375\n",
            "Epoch number: 2951 and the loss : 49390.3046875\n",
            "Epoch number: 2961 and the loss : 50054.9375\n",
            "Epoch number: 2971 and the loss : 48982.56640625\n",
            "Epoch number: 2981 and the loss : 49423.48828125\n",
            "Epoch number: 2991 and the loss : 49232.23046875\n",
            "Epoch number: 3001 and the loss : 48284.3125\n",
            "Epoch number: 3011 and the loss : 49148.8359375\n",
            "Epoch number: 3021 and the loss : 48915.8671875\n",
            "Epoch number: 3031 and the loss : 45287.57421875\n",
            "Epoch number: 3041 and the loss : 46265.80078125\n",
            "Epoch number: 3051 and the loss : 48601.97265625\n",
            "Epoch number: 3061 and the loss : 44977.0625\n",
            "Epoch number: 3071 and the loss : 45486.02734375\n",
            "Epoch number: 3081 and the loss : 44535.828125\n",
            "Epoch number: 3091 and the loss : 45948.0078125\n",
            "Epoch number: 3101 and the loss : 44483.8515625\n",
            "Epoch number: 3111 and the loss : 44483.45703125\n",
            "Epoch number: 3121 and the loss : 44000.61328125\n",
            "Epoch number: 3131 and the loss : 43849.7890625\n",
            "Epoch number: 3141 and the loss : 44576.67578125\n",
            "Epoch number: 3151 and the loss : 43120.4375\n",
            "Epoch number: 3161 and the loss : 43089.609375\n",
            "Epoch number: 3171 and the loss : 42146.578125\n",
            "Epoch number: 3181 and the loss : 42680.578125\n",
            "Epoch number: 3191 and the loss : 41743.65234375\n",
            "Epoch number: 3201 and the loss : 41807.15625\n",
            "Epoch number: 3211 and the loss : 40338.8203125\n",
            "Epoch number: 3221 and the loss : 39830.5234375\n",
            "Epoch number: 3231 and the loss : 40733.2109375\n",
            "Epoch number: 3241 and the loss : 41218.34375\n",
            "Epoch number: 3251 and the loss : 40304.14453125\n",
            "Epoch number: 3261 and the loss : 41059.1640625\n",
            "Epoch number: 3271 and the loss : 40488.84765625\n",
            "Epoch number: 3281 and the loss : 42313.61328125\n",
            "Epoch number: 3291 and the loss : 38950.62109375\n",
            "Epoch number: 3301 and the loss : 39713.56640625\n",
            "Epoch number: 3311 and the loss : 39138.26171875\n",
            "Epoch number: 3321 and the loss : 38648.046875\n",
            "Epoch number: 3331 and the loss : 38500.04296875\n",
            "Epoch number: 3341 and the loss : 38519.15625\n",
            "Epoch number: 3351 and the loss : 41217.51953125\n",
            "Epoch number: 3361 and the loss : 38997.55859375\n",
            "Epoch number: 3371 and the loss : 38024.265625\n",
            "Epoch number: 3381 and the loss : 38514.12890625\n",
            "Epoch number: 3391 and the loss : 48520.85546875\n",
            "Epoch number: 3401 and the loss : 37089.765625\n",
            "Epoch number: 3411 and the loss : 38168.55078125\n",
            "Epoch number: 3421 and the loss : 38218.375\n",
            "Epoch number: 3431 and the loss : 37640.8359375\n",
            "Epoch number: 3441 and the loss : 37205.91796875\n",
            "Epoch number: 3451 and the loss : 42872.63671875\n",
            "Epoch number: 3461 and the loss : 38132.28515625\n",
            "Epoch number: 3471 and the loss : 38450.71484375\n",
            "Epoch number: 3481 and the loss : 36662.79296875\n",
            "Epoch number: 3491 and the loss : 36259.42578125\n",
            "Epoch number: 3501 and the loss : 38415.82421875\n",
            "Epoch number: 3511 and the loss : 36721.93359375\n",
            "Epoch number: 3521 and the loss : 37025.140625\n",
            "Epoch number: 3531 and the loss : 37742.3515625\n",
            "Epoch number: 3541 and the loss : 34811.9296875\n",
            "Epoch number: 3551 and the loss : 35128.078125\n",
            "Epoch number: 3561 and the loss : 36455.2578125\n",
            "Epoch number: 3571 and the loss : 37865.65234375\n",
            "Epoch number: 3581 and the loss : 35340.328125\n",
            "Epoch number: 3591 and the loss : 36074.296875\n",
            "Epoch number: 3601 and the loss : 37444.90234375\n",
            "Epoch number: 3611 and the loss : 35215.41015625\n",
            "Epoch number: 3621 and the loss : 34546.81640625\n",
            "Epoch number: 3631 and the loss : 36178.53515625\n",
            "Epoch number: 3641 and the loss : 35098.54296875\n",
            "Epoch number: 3651 and the loss : 35396.5078125\n",
            "Epoch number: 3661 and the loss : 34588.05859375\n",
            "Epoch number: 3671 and the loss : 37469.24609375\n",
            "Epoch number: 3681 and the loss : 35543.171875\n",
            "Epoch number: 3691 and the loss : 37612.625\n",
            "Epoch number: 3701 and the loss : 34631.0390625\n",
            "Epoch number: 3711 and the loss : 35057.515625\n",
            "Epoch number: 3721 and the loss : 35697.16015625\n",
            "Epoch number: 3731 and the loss : 34685.0859375\n",
            "Epoch number: 3741 and the loss : 34308.06640625\n",
            "Epoch number: 3751 and the loss : 37007.7734375\n",
            "Epoch number: 3761 and the loss : 34814.37109375\n",
            "Epoch number: 3771 and the loss : 35606.953125\n",
            "Epoch number: 3781 and the loss : 32981.4140625\n",
            "Epoch number: 3791 and the loss : 36235.90234375\n",
            "Epoch number: 3801 and the loss : 35037.4296875\n",
            "Epoch number: 3811 and the loss : 36084.20703125\n",
            "Epoch number: 3821 and the loss : 34348.43359375\n",
            "Epoch number: 3831 and the loss : 35824.59375\n",
            "Epoch number: 3841 and the loss : 35420.20703125\n",
            "Epoch number: 3851 and the loss : 37062.02734375\n",
            "Epoch number: 3861 and the loss : 35222.984375\n",
            "Epoch number: 3871 and the loss : 34777.82421875\n",
            "Epoch number: 3881 and the loss : 36106.90234375\n",
            "Epoch number: 3891 and the loss : 35167.97265625\n",
            "Epoch number: 3901 and the loss : 36376.82421875\n",
            "Epoch number: 3911 and the loss : 33694.2109375\n",
            "Epoch number: 3921 and the loss : 35529.08203125\n",
            "Epoch number: 3931 and the loss : 36892.05859375\n",
            "Epoch number: 3941 and the loss : 35749.94921875\n",
            "Epoch number: 3951 and the loss : 34009.13671875\n",
            "Epoch number: 3961 and the loss : 34706.26171875\n",
            "Epoch number: 3971 and the loss : 36393.2265625\n",
            "Epoch number: 3981 and the loss : 34799.68359375\n",
            "Epoch number: 3991 and the loss : 33800.71875\n",
            "Epoch number: 4001 and the loss : 33619.76171875\n",
            "Epoch number: 4011 and the loss : 34725.7421875\n",
            "Epoch number: 4021 and the loss : 35337.11328125\n",
            "Epoch number: 4031 and the loss : 34856.55078125\n",
            "Epoch number: 4041 and the loss : 33917.5\n",
            "Epoch number: 4051 and the loss : 34449.16015625\n",
            "Epoch number: 4061 and the loss : 35034.2265625\n",
            "Epoch number: 4071 and the loss : 33581.50390625\n",
            "Epoch number: 4081 and the loss : 34485.546875\n",
            "Epoch number: 4091 and the loss : 35692.33984375\n",
            "Epoch number: 4101 and the loss : 35945.92578125\n",
            "Epoch number: 4111 and the loss : 34232.34765625\n",
            "Epoch number: 4121 and the loss : 35522.7265625\n",
            "Epoch number: 4131 and the loss : 35491.6953125\n",
            "Epoch number: 4141 and the loss : 35502.140625\n",
            "Epoch number: 4151 and the loss : 35944.08203125\n",
            "Epoch number: 4161 and the loss : 34372.65625\n",
            "Epoch number: 4171 and the loss : 35147.2890625\n",
            "Epoch number: 4181 and the loss : 36025.38671875\n",
            "Epoch number: 4191 and the loss : 35079.328125\n",
            "Epoch number: 4201 and the loss : 34192.4453125\n",
            "Epoch number: 4211 and the loss : 33934.4140625\n",
            "Epoch number: 4221 and the loss : 35715.59765625\n",
            "Epoch number: 4231 and the loss : 33956.6953125\n",
            "Epoch number: 4241 and the loss : 32875.80078125\n",
            "Epoch number: 4251 and the loss : 34245.4375\n",
            "Epoch number: 4261 and the loss : 35224.72265625\n",
            "Epoch number: 4271 and the loss : 34299.47265625\n",
            "Epoch number: 4281 and the loss : 33626.0078125\n",
            "Epoch number: 4291 and the loss : 33160.078125\n",
            "Epoch number: 4301 and the loss : 33537.30859375\n",
            "Epoch number: 4311 and the loss : 34679.12890625\n",
            "Epoch number: 4321 and the loss : 33040.84375\n",
            "Epoch number: 4331 and the loss : 34190.92578125\n",
            "Epoch number: 4341 and the loss : 34207.91796875\n",
            "Epoch number: 4351 and the loss : 35286.73046875\n",
            "Epoch number: 4361 and the loss : 34107.4765625\n",
            "Epoch number: 4371 and the loss : 34298.859375\n",
            "Epoch number: 4381 and the loss : 35325.73828125\n",
            "Epoch number: 4391 and the loss : 35396.37890625\n",
            "Epoch number: 4401 and the loss : 35689.01171875\n",
            "Epoch number: 4411 and the loss : 36784.5625\n",
            "Epoch number: 4421 and the loss : 34769.82421875\n",
            "Epoch number: 4431 and the loss : 33701.39453125\n",
            "Epoch number: 4441 and the loss : 32100.66015625\n",
            "Epoch number: 4451 and the loss : 33265.890625\n",
            "Epoch number: 4461 and the loss : 32290.623046875\n",
            "Epoch number: 4471 and the loss : 34576.0625\n",
            "Epoch number: 4481 and the loss : 34848.9453125\n",
            "Epoch number: 4491 and the loss : 33048.9375\n",
            "Epoch number: 4501 and the loss : 33519.24609375\n",
            "Epoch number: 4511 and the loss : 36183.2265625\n",
            "Epoch number: 4521 and the loss : 35033.046875\n",
            "Epoch number: 4531 and the loss : 34175.33984375\n",
            "Epoch number: 4541 and the loss : 33464.18359375\n",
            "Epoch number: 4551 and the loss : 34771.5859375\n",
            "Epoch number: 4561 and the loss : 33678.60546875\n",
            "Epoch number: 4571 and the loss : 34434.734375\n",
            "Epoch number: 4581 and the loss : 34623.11328125\n",
            "Epoch number: 4591 and the loss : 35383.37109375\n",
            "Epoch number: 4601 and the loss : 32924.37890625\n",
            "Epoch number: 4611 and the loss : 38593.328125\n",
            "Epoch number: 4621 and the loss : 34177.87109375\n",
            "Epoch number: 4631 and the loss : 34469.56640625\n",
            "Epoch number: 4641 and the loss : 34272.796875\n",
            "Epoch number: 4651 and the loss : 34352.98046875\n",
            "Epoch number: 4661 and the loss : 34790.3828125\n",
            "Epoch number: 4671 and the loss : 33901.1796875\n",
            "Epoch number: 4681 and the loss : 34590.7734375\n",
            "Epoch number: 4691 and the loss : 34839.08984375\n",
            "Epoch number: 4701 and the loss : 37606.43359375\n",
            "Epoch number: 4711 and the loss : 34581.34375\n",
            "Epoch number: 4721 and the loss : 32643.115234375\n",
            "Epoch number: 4731 and the loss : 35662.39453125\n",
            "Epoch number: 4741 and the loss : 33119.41015625\n",
            "Epoch number: 4751 and the loss : 34799.20703125\n",
            "Epoch number: 4761 and the loss : 33282.23828125\n",
            "Epoch number: 4771 and the loss : 36091.24609375\n",
            "Epoch number: 4781 and the loss : 33683.40234375\n",
            "Epoch number: 4791 and the loss : 34451.12109375\n",
            "Epoch number: 4801 and the loss : 35376.1171875\n",
            "Epoch number: 4811 and the loss : 33904.4375\n",
            "Epoch number: 4821 and the loss : 33015.41015625\n",
            "Epoch number: 4831 and the loss : 34519.640625\n",
            "Epoch number: 4841 and the loss : 35456.85546875\n",
            "Epoch number: 4851 and the loss : 36548.64453125\n",
            "Epoch number: 4861 and the loss : 34549.26171875\n",
            "Epoch number: 4871 and the loss : 35290.921875\n",
            "Epoch number: 4881 and the loss : 37038.26171875\n",
            "Epoch number: 4891 and the loss : 34376.3515625\n",
            "Epoch number: 4901 and the loss : 34755.6484375\n",
            "Epoch number: 4911 and the loss : 34024.7734375\n",
            "Epoch number: 4921 and the loss : 35208.61328125\n",
            "Epoch number: 4931 and the loss : 33331.48828125\n",
            "Epoch number: 4941 and the loss : 36025.37109375\n",
            "Epoch number: 4951 and the loss : 33852.69140625\n",
            "Epoch number: 4961 and the loss : 34856.78515625\n",
            "Epoch number: 4971 and the loss : 33801.4765625\n",
            "Epoch number: 4981 and the loss : 34894.78515625\n",
            "Epoch number: 4991 and the loss : 33178.05859375\n"
          ]
        }
      ],
      "source": [
        "epochs=5000\n",
        "final_losses=[]\n",
        "for i in range(epochs):\n",
        "  i=i+1\n",
        "  y_pred=model(train_categorical,train_cont)\n",
        "  loss=torch.sqrt(loss_function(y_pred,y_train))\n",
        "  final_losses.append(loss)\n",
        "  if(i%10==1):\n",
        "    print('Epoch number: {} and the loss : {}'.format(i,loss.item()))\n",
        "  optimizer.zero_grad()\n",
        "  loss.backward() #backpropagation\n",
        "  optimizer.step()"
      ]
    },
    {
      "cell_type": "code",
      "execution_count": 71,
      "metadata": {
        "colab": {
          "base_uri": "https://localhost:8080/",
          "height": 757
        },
        "id": "_4PJ7ur3vwez",
        "outputId": "4157a6ed-5f98-4507-e792-0fbb9fe1a734"
      },
      "outputs": [
        {
          "ename": "RuntimeError",
          "evalue": "Can't call numpy() on Tensor that requires grad. Use tensor.detach().numpy() instead.",
          "output_type": "error",
          "traceback": [
            "\u001b[0;31m---------------------------------------------------------------------------\u001b[0m",
            "\u001b[0;31mRuntimeError\u001b[0m                              Traceback (most recent call last)",
            "\u001b[0;32m<ipython-input-71-7718c597ae88>\u001b[0m in \u001b[0;36m<cell line: 3>\u001b[0;34m()\u001b[0m\n\u001b[1;32m      1\u001b[0m \u001b[0;32mimport\u001b[0m \u001b[0mmatplotlib\u001b[0m\u001b[0;34m.\u001b[0m\u001b[0mpyplot\u001b[0m \u001b[0;32mas\u001b[0m \u001b[0mplt\u001b[0m\u001b[0;34m\u001b[0m\u001b[0;34m\u001b[0m\u001b[0m\n\u001b[1;32m      2\u001b[0m \u001b[0mget_ipython\u001b[0m\u001b[0;34m(\u001b[0m\u001b[0;34m)\u001b[0m\u001b[0;34m.\u001b[0m\u001b[0mrun_line_magic\u001b[0m\u001b[0;34m(\u001b[0m\u001b[0;34m'matplotlib'\u001b[0m\u001b[0;34m,\u001b[0m \u001b[0;34m'inline'\u001b[0m\u001b[0;34m)\u001b[0m\u001b[0;34m\u001b[0m\u001b[0;34m\u001b[0m\u001b[0m\n\u001b[0;32m----> 3\u001b[0;31m \u001b[0mplt\u001b[0m\u001b[0;34m.\u001b[0m\u001b[0mplot\u001b[0m\u001b[0;34m(\u001b[0m\u001b[0mrange\u001b[0m\u001b[0;34m(\u001b[0m\u001b[0mepochs\u001b[0m\u001b[0;34m)\u001b[0m\u001b[0;34m,\u001b[0m\u001b[0mfinal_losses\u001b[0m\u001b[0;34m)\u001b[0m\u001b[0;34m\u001b[0m\u001b[0;34m\u001b[0m\u001b[0m\n\u001b[0m\u001b[1;32m      4\u001b[0m \u001b[0mplt\u001b[0m\u001b[0;34m.\u001b[0m\u001b[0mylabel\u001b[0m\u001b[0;34m(\u001b[0m\u001b[0;34m'RMSE loss'\u001b[0m\u001b[0;34m)\u001b[0m\u001b[0;34m\u001b[0m\u001b[0;34m\u001b[0m\u001b[0m\n",
            "\u001b[0;32m/usr/local/lib/python3.10/dist-packages/matplotlib/pyplot.py\u001b[0m in \u001b[0;36mplot\u001b[0;34m(scalex, scaley, data, *args, **kwargs)\u001b[0m\n\u001b[1;32m   2810\u001b[0m \u001b[0;34m@\u001b[0m\u001b[0m_copy_docstring_and_deprecators\u001b[0m\u001b[0;34m(\u001b[0m\u001b[0mAxes\u001b[0m\u001b[0;34m.\u001b[0m\u001b[0mplot\u001b[0m\u001b[0;34m)\u001b[0m\u001b[0;34m\u001b[0m\u001b[0;34m\u001b[0m\u001b[0m\n\u001b[1;32m   2811\u001b[0m \u001b[0;32mdef\u001b[0m \u001b[0mplot\u001b[0m\u001b[0;34m(\u001b[0m\u001b[0;34m*\u001b[0m\u001b[0margs\u001b[0m\u001b[0;34m,\u001b[0m \u001b[0mscalex\u001b[0m\u001b[0;34m=\u001b[0m\u001b[0;32mTrue\u001b[0m\u001b[0;34m,\u001b[0m \u001b[0mscaley\u001b[0m\u001b[0;34m=\u001b[0m\u001b[0;32mTrue\u001b[0m\u001b[0;34m,\u001b[0m \u001b[0mdata\u001b[0m\u001b[0;34m=\u001b[0m\u001b[0;32mNone\u001b[0m\u001b[0;34m,\u001b[0m \u001b[0;34m**\u001b[0m\u001b[0mkwargs\u001b[0m\u001b[0;34m)\u001b[0m\u001b[0;34m:\u001b[0m\u001b[0;34m\u001b[0m\u001b[0;34m\u001b[0m\u001b[0m\n\u001b[0;32m-> 2812\u001b[0;31m     return gca().plot(\n\u001b[0m\u001b[1;32m   2813\u001b[0m         \u001b[0;34m*\u001b[0m\u001b[0margs\u001b[0m\u001b[0;34m,\u001b[0m \u001b[0mscalex\u001b[0m\u001b[0;34m=\u001b[0m\u001b[0mscalex\u001b[0m\u001b[0;34m,\u001b[0m \u001b[0mscaley\u001b[0m\u001b[0;34m=\u001b[0m\u001b[0mscaley\u001b[0m\u001b[0;34m,\u001b[0m\u001b[0;34m\u001b[0m\u001b[0;34m\u001b[0m\u001b[0m\n\u001b[1;32m   2814\u001b[0m         **({\"data\": data} if data is not None else {}), **kwargs)\n",
            "\u001b[0;32m/usr/local/lib/python3.10/dist-packages/matplotlib/axes/_axes.py\u001b[0m in \u001b[0;36mplot\u001b[0;34m(self, scalex, scaley, data, *args, **kwargs)\u001b[0m\n\u001b[1;32m   1686\u001b[0m         \"\"\"\n\u001b[1;32m   1687\u001b[0m         \u001b[0mkwargs\u001b[0m \u001b[0;34m=\u001b[0m \u001b[0mcbook\u001b[0m\u001b[0;34m.\u001b[0m\u001b[0mnormalize_kwargs\u001b[0m\u001b[0;34m(\u001b[0m\u001b[0mkwargs\u001b[0m\u001b[0;34m,\u001b[0m \u001b[0mmlines\u001b[0m\u001b[0;34m.\u001b[0m\u001b[0mLine2D\u001b[0m\u001b[0;34m)\u001b[0m\u001b[0;34m\u001b[0m\u001b[0;34m\u001b[0m\u001b[0m\n\u001b[0;32m-> 1688\u001b[0;31m         \u001b[0mlines\u001b[0m \u001b[0;34m=\u001b[0m \u001b[0;34m[\u001b[0m\u001b[0;34m*\u001b[0m\u001b[0mself\u001b[0m\u001b[0;34m.\u001b[0m\u001b[0m_get_lines\u001b[0m\u001b[0;34m(\u001b[0m\u001b[0;34m*\u001b[0m\u001b[0margs\u001b[0m\u001b[0;34m,\u001b[0m \u001b[0mdata\u001b[0m\u001b[0;34m=\u001b[0m\u001b[0mdata\u001b[0m\u001b[0;34m,\u001b[0m \u001b[0;34m**\u001b[0m\u001b[0mkwargs\u001b[0m\u001b[0;34m)\u001b[0m\u001b[0;34m]\u001b[0m\u001b[0;34m\u001b[0m\u001b[0;34m\u001b[0m\u001b[0m\n\u001b[0m\u001b[1;32m   1689\u001b[0m         \u001b[0;32mfor\u001b[0m \u001b[0mline\u001b[0m \u001b[0;32min\u001b[0m \u001b[0mlines\u001b[0m\u001b[0;34m:\u001b[0m\u001b[0;34m\u001b[0m\u001b[0;34m\u001b[0m\u001b[0m\n\u001b[1;32m   1690\u001b[0m             \u001b[0mself\u001b[0m\u001b[0;34m.\u001b[0m\u001b[0madd_line\u001b[0m\u001b[0;34m(\u001b[0m\u001b[0mline\u001b[0m\u001b[0;34m)\u001b[0m\u001b[0;34m\u001b[0m\u001b[0;34m\u001b[0m\u001b[0m\n",
            "\u001b[0;32m/usr/local/lib/python3.10/dist-packages/matplotlib/axes/_base.py\u001b[0m in \u001b[0;36m__call__\u001b[0;34m(self, data, *args, **kwargs)\u001b[0m\n\u001b[1;32m    309\u001b[0m                 \u001b[0mthis\u001b[0m \u001b[0;34m+=\u001b[0m \u001b[0margs\u001b[0m\u001b[0;34m[\u001b[0m\u001b[0;36m0\u001b[0m\u001b[0;34m]\u001b[0m\u001b[0;34m,\u001b[0m\u001b[0;34m\u001b[0m\u001b[0;34m\u001b[0m\u001b[0m\n\u001b[1;32m    310\u001b[0m                 \u001b[0margs\u001b[0m \u001b[0;34m=\u001b[0m \u001b[0margs\u001b[0m\u001b[0;34m[\u001b[0m\u001b[0;36m1\u001b[0m\u001b[0;34m:\u001b[0m\u001b[0;34m]\u001b[0m\u001b[0;34m\u001b[0m\u001b[0;34m\u001b[0m\u001b[0m\n\u001b[0;32m--> 311\u001b[0;31m             yield from self._plot_args(\n\u001b[0m\u001b[1;32m    312\u001b[0m                 this, kwargs, ambiguous_fmt_datakey=ambiguous_fmt_datakey)\n\u001b[1;32m    313\u001b[0m \u001b[0;34m\u001b[0m\u001b[0m\n",
            "\u001b[0;32m/usr/local/lib/python3.10/dist-packages/matplotlib/axes/_base.py\u001b[0m in \u001b[0;36m_plot_args\u001b[0;34m(self, tup, kwargs, return_kwargs, ambiguous_fmt_datakey)\u001b[0m\n\u001b[1;32m    492\u001b[0m         \u001b[0;32mif\u001b[0m \u001b[0mlen\u001b[0m\u001b[0;34m(\u001b[0m\u001b[0mxy\u001b[0m\u001b[0;34m)\u001b[0m \u001b[0;34m==\u001b[0m \u001b[0;36m2\u001b[0m\u001b[0;34m:\u001b[0m\u001b[0;34m\u001b[0m\u001b[0;34m\u001b[0m\u001b[0m\n\u001b[1;32m    493\u001b[0m             \u001b[0mx\u001b[0m \u001b[0;34m=\u001b[0m \u001b[0m_check_1d\u001b[0m\u001b[0;34m(\u001b[0m\u001b[0mxy\u001b[0m\u001b[0;34m[\u001b[0m\u001b[0;36m0\u001b[0m\u001b[0;34m]\u001b[0m\u001b[0;34m)\u001b[0m\u001b[0;34m\u001b[0m\u001b[0;34m\u001b[0m\u001b[0m\n\u001b[0;32m--> 494\u001b[0;31m             \u001b[0my\u001b[0m \u001b[0;34m=\u001b[0m \u001b[0m_check_1d\u001b[0m\u001b[0;34m(\u001b[0m\u001b[0mxy\u001b[0m\u001b[0;34m[\u001b[0m\u001b[0;36m1\u001b[0m\u001b[0;34m]\u001b[0m\u001b[0;34m)\u001b[0m\u001b[0;34m\u001b[0m\u001b[0;34m\u001b[0m\u001b[0m\n\u001b[0m\u001b[1;32m    495\u001b[0m         \u001b[0;32melse\u001b[0m\u001b[0;34m:\u001b[0m\u001b[0;34m\u001b[0m\u001b[0;34m\u001b[0m\u001b[0m\n\u001b[1;32m    496\u001b[0m             \u001b[0mx\u001b[0m\u001b[0;34m,\u001b[0m \u001b[0my\u001b[0m \u001b[0;34m=\u001b[0m \u001b[0mindex_of\u001b[0m\u001b[0;34m(\u001b[0m\u001b[0mxy\u001b[0m\u001b[0;34m[\u001b[0m\u001b[0;34m-\u001b[0m\u001b[0;36m1\u001b[0m\u001b[0;34m]\u001b[0m\u001b[0;34m)\u001b[0m\u001b[0;34m\u001b[0m\u001b[0;34m\u001b[0m\u001b[0m\n",
            "\u001b[0;32m/usr/local/lib/python3.10/dist-packages/matplotlib/cbook/__init__.py\u001b[0m in \u001b[0;36m_check_1d\u001b[0;34m(x)\u001b[0m\n\u001b[1;32m   1346\u001b[0m             \u001b[0;32mnot\u001b[0m \u001b[0mhasattr\u001b[0m\u001b[0;34m(\u001b[0m\u001b[0mx\u001b[0m\u001b[0;34m,\u001b[0m \u001b[0;34m'ndim'\u001b[0m\u001b[0;34m)\u001b[0m \u001b[0;32mor\u001b[0m\u001b[0;34m\u001b[0m\u001b[0;34m\u001b[0m\u001b[0m\n\u001b[1;32m   1347\u001b[0m             len(x.shape) < 1):\n\u001b[0;32m-> 1348\u001b[0;31m         \u001b[0;32mreturn\u001b[0m \u001b[0mnp\u001b[0m\u001b[0;34m.\u001b[0m\u001b[0matleast_1d\u001b[0m\u001b[0;34m(\u001b[0m\u001b[0mx\u001b[0m\u001b[0;34m)\u001b[0m\u001b[0;34m\u001b[0m\u001b[0;34m\u001b[0m\u001b[0m\n\u001b[0m\u001b[1;32m   1349\u001b[0m     \u001b[0;32melse\u001b[0m\u001b[0;34m:\u001b[0m\u001b[0;34m\u001b[0m\u001b[0;34m\u001b[0m\u001b[0m\n\u001b[1;32m   1350\u001b[0m         \u001b[0;32mreturn\u001b[0m \u001b[0mx\u001b[0m\u001b[0;34m\u001b[0m\u001b[0;34m\u001b[0m\u001b[0m\n",
            "\u001b[0;32m/usr/local/lib/python3.10/dist-packages/numpy/core/shape_base.py\u001b[0m in \u001b[0;36matleast_1d\u001b[0;34m(*arys)\u001b[0m\n\u001b[1;32m     63\u001b[0m     \u001b[0mres\u001b[0m \u001b[0;34m=\u001b[0m \u001b[0;34m[\u001b[0m\u001b[0;34m]\u001b[0m\u001b[0;34m\u001b[0m\u001b[0;34m\u001b[0m\u001b[0m\n\u001b[1;32m     64\u001b[0m     \u001b[0;32mfor\u001b[0m \u001b[0mary\u001b[0m \u001b[0;32min\u001b[0m \u001b[0marys\u001b[0m\u001b[0;34m:\u001b[0m\u001b[0;34m\u001b[0m\u001b[0;34m\u001b[0m\u001b[0m\n\u001b[0;32m---> 65\u001b[0;31m         \u001b[0mary\u001b[0m \u001b[0;34m=\u001b[0m \u001b[0masanyarray\u001b[0m\u001b[0;34m(\u001b[0m\u001b[0mary\u001b[0m\u001b[0;34m)\u001b[0m\u001b[0;34m\u001b[0m\u001b[0;34m\u001b[0m\u001b[0m\n\u001b[0m\u001b[1;32m     66\u001b[0m         \u001b[0;32mif\u001b[0m \u001b[0mary\u001b[0m\u001b[0;34m.\u001b[0m\u001b[0mndim\u001b[0m \u001b[0;34m==\u001b[0m \u001b[0;36m0\u001b[0m\u001b[0;34m:\u001b[0m\u001b[0;34m\u001b[0m\u001b[0;34m\u001b[0m\u001b[0m\n\u001b[1;32m     67\u001b[0m             \u001b[0mresult\u001b[0m \u001b[0;34m=\u001b[0m \u001b[0mary\u001b[0m\u001b[0;34m.\u001b[0m\u001b[0mreshape\u001b[0m\u001b[0;34m(\u001b[0m\u001b[0;36m1\u001b[0m\u001b[0;34m)\u001b[0m\u001b[0;34m\u001b[0m\u001b[0;34m\u001b[0m\u001b[0m\n",
            "\u001b[0;32m/usr/local/lib/python3.10/dist-packages/torch/_tensor.py\u001b[0m in \u001b[0;36m__array__\u001b[0;34m(self, dtype)\u001b[0m\n\u001b[1;32m   1085\u001b[0m             \u001b[0;32mreturn\u001b[0m \u001b[0mhandle_torch_function\u001b[0m\u001b[0;34m(\u001b[0m\u001b[0mTensor\u001b[0m\u001b[0;34m.\u001b[0m\u001b[0m__array__\u001b[0m\u001b[0;34m,\u001b[0m \u001b[0;34m(\u001b[0m\u001b[0mself\u001b[0m\u001b[0;34m,\u001b[0m\u001b[0;34m)\u001b[0m\u001b[0;34m,\u001b[0m \u001b[0mself\u001b[0m\u001b[0;34m,\u001b[0m \u001b[0mdtype\u001b[0m\u001b[0;34m=\u001b[0m\u001b[0mdtype\u001b[0m\u001b[0;34m)\u001b[0m\u001b[0;34m\u001b[0m\u001b[0;34m\u001b[0m\u001b[0m\n\u001b[1;32m   1086\u001b[0m         \u001b[0;32mif\u001b[0m \u001b[0mdtype\u001b[0m \u001b[0;32mis\u001b[0m \u001b[0;32mNone\u001b[0m\u001b[0;34m:\u001b[0m\u001b[0;34m\u001b[0m\u001b[0;34m\u001b[0m\u001b[0m\n\u001b[0;32m-> 1087\u001b[0;31m             \u001b[0;32mreturn\u001b[0m \u001b[0mself\u001b[0m\u001b[0;34m.\u001b[0m\u001b[0mnumpy\u001b[0m\u001b[0;34m(\u001b[0m\u001b[0;34m)\u001b[0m\u001b[0;34m\u001b[0m\u001b[0;34m\u001b[0m\u001b[0m\n\u001b[0m\u001b[1;32m   1088\u001b[0m         \u001b[0;32melse\u001b[0m\u001b[0;34m:\u001b[0m\u001b[0;34m\u001b[0m\u001b[0;34m\u001b[0m\u001b[0m\n\u001b[1;32m   1089\u001b[0m             \u001b[0;32mreturn\u001b[0m \u001b[0mself\u001b[0m\u001b[0;34m.\u001b[0m\u001b[0mnumpy\u001b[0m\u001b[0;34m(\u001b[0m\u001b[0;34m)\u001b[0m\u001b[0;34m.\u001b[0m\u001b[0mastype\u001b[0m\u001b[0;34m(\u001b[0m\u001b[0mdtype\u001b[0m\u001b[0;34m,\u001b[0m \u001b[0mcopy\u001b[0m\u001b[0;34m=\u001b[0m\u001b[0;32mFalse\u001b[0m\u001b[0;34m)\u001b[0m\u001b[0;34m\u001b[0m\u001b[0;34m\u001b[0m\u001b[0m\n",
            "\u001b[0;31mRuntimeError\u001b[0m: Can't call numpy() on Tensor that requires grad. Use tensor.detach().numpy() instead."
          ]
        },
        {
          "data": {
            "image/png": "[encoded data removed]",
            "text/plain": [
              "<Figure size 640x480 with 1 Axes>"
            ]
          },
          "metadata": {},
          "output_type": "display_data"
        }
      ],
      "source": [
        "import matplotlib.pyplot as plt\n",
        "%matplotlib inline\n",
        "plt.plot(range(epochs),final_losses)\n",
        "plt.ylabel('RMSE loss')"
      ]
    },
    {
      "cell_type": "code",
      "execution_count": 72,
      "metadata": {
        "colab": {
          "base_uri": "https://localhost:8080/"
        },
        "id": "BcCyQu8Gwm6K",
        "outputId": "10415c88-9d71-4058-9eb3-bf9803427d71"
      },
      "outputs": [
        {
          "name": "stdout",
          "output_type": "stream",
          "text": [
            "RMSE: 45009.03515625\n"
          ]
        }
      ],
      "source": [
        " y_pred=''\n",
        " with torch.no_grad():\n",
        "  y_pred=model(test_categorical,test_cont)\n",
        "  loss=torch.sqrt(loss_function(y_pred,y_test))\n",
        "print(\"RMSE: {}\".format(loss))"
      ]
    },
    {
      "cell_type": "code",
      "execution_count": 74,
      "metadata": {
        "id": "TI3a-LL0x6zG"
      },
      "outputs": [],
      "source": [
        "data_verify=pd.DataFrame(y_test.tolist(),columns=[\"Test\"])\n",
        "Data_predicted=pd.DataFrame(y_pred.tolist(),columns=[\"Predictions\"])"
      ]
    },
    {
      "cell_type": "code",
      "execution_count": 77,
      "metadata": {
        "colab": {
          "base_uri": "https://localhost:8080/",
          "height": 206
        },
        "id": "3IODO0CRyO03",
        "outputId": "c8a2bf5b-2ca5-4178-9175-12462d09053d"
      },
      "outputs": [
        {
          "data": {
            "application/vnd.google.colaboratory.intrinsic+json": {
              "summary": "{\n  \"name\": \"final\",\n  \"rows\": 5,\n  \"fields\": [\n    {\n      \"column\": \"Test\",\n      \"properties\": {\n        \"dtype\": \"number\",\n        \"std\": 46449.93945098314,\n        \"min\": 142125.0,\n        \"max\": 266500.0,\n        \"num_unique_values\": 5,\n        \"samples\": [\n          175000.0,\n          142125.0,\n          210000.0\n        ],\n        \"semantic_type\": \"\",\n        \"description\": \"\"\n      }\n    },\n    {\n      \"column\": \"Predictions\",\n      \"properties\": {\n        \"dtype\": \"number\",\n        \"std\": 41638.21143020284,\n        \"min\": 120171.46875,\n        \"max\": 235995.03125,\n        \"num_unique_values\": 5,\n        \"samples\": [\n          186382.796875,\n          120171.46875,\n          235995.03125\n        ],\n        \"semantic_type\": \"\",\n        \"description\": \"\"\n      }\n    },\n    {\n      \"column\": \"Difference\",\n      \"properties\": {\n        \"dtype\": \"number\",\n        \"std\": 39433.71159910355,\n        \"min\": -25995.03125,\n        \"max\": 76598.28125,\n        \"num_unique_values\": 5,\n        \"samples\": [\n          -11382.796875,\n          21953.53125,\n          -25995.03125\n        ],\n        \"semantic_type\": \"\",\n        \"description\": \"\"\n      }\n    }\n  ]\n}",
              "type": "dataframe"
            },
            "text/html": [
              "\n",
              "  <div id=\"df-10cc2646-087c-4b2b-852c-deec460e66cd\" class=\"colab-df-container\">\n",
              "    <div>\n",
              "<style scoped>\n",
              "    .dataframe tbody tr th:only-of-type {\n",
              "        vertical-align: middle;\n",
              "    }\n",
              "\n",
              "    .dataframe tbody tr th {\n",
              "        vertical-align: top;\n",
              "    }\n",
              "\n",
              "    .dataframe thead th {\n",
              "        text-align: right;\n",
              "    }\n",
              "</style>\n",
              "<table border=\"1\" class=\"dataframe\">\n",
              "  <thead>\n",
              "    <tr style=\"text-align: right;\">\n",
              "      <th></th>\n",
              "      <th>Test</th>\n",
              "      <th>Predictions</th>\n",
              "      <th>Difference</th>\n",
              "    </tr>\n",
              "  </thead>\n",
              "  <tbody>\n",
              "    <tr>\n",
              "      <th>175</th>\n",
              "      <td>185000.0</td>\n",
              "      <td>170863.328125</td>\n",
              "      <td>14136.671875</td>\n",
              "    </tr>\n",
              "    <tr>\n",
              "      <th>176</th>\n",
              "      <td>175000.0</td>\n",
              "      <td>186382.796875</td>\n",
              "      <td>-11382.796875</td>\n",
              "    </tr>\n",
              "    <tr>\n",
              "      <th>177</th>\n",
              "      <td>210000.0</td>\n",
              "      <td>235995.031250</td>\n",
              "      <td>-25995.031250</td>\n",
              "    </tr>\n",
              "    <tr>\n",
              "      <th>178</th>\n",
              "      <td>266500.0</td>\n",
              "      <td>189901.718750</td>\n",
              "      <td>76598.281250</td>\n",
              "    </tr>\n",
              "    <tr>\n",
              "      <th>179</th>\n",
              "      <td>142125.0</td>\n",
              "      <td>120171.468750</td>\n",
              "      <td>21953.531250</td>\n",
              "    </tr>\n",
              "  </tbody>\n",
              "</table>\n",
              "</div>\n",
              "    <div class=\"colab-df-buttons\">\n",
              "\n",
              "  <div class=\"colab-df-container\">\n",
              "    <button class=\"colab-df-convert\" onclick=\"convertToInteractive('df-10cc2646-087c-4b2b-852c-deec460e66cd')\"\n",
              "            title=\"Convert this dataframe to an interactive table.\"\n",
              "            style=\"display:none;\">\n",
              "\n",
              "  <svg xmlns=\"http://www.w3.org/2000/svg\" height=\"24px\" viewBox=\"0 -960 960 960\">\n",
              "    <path d=\"M120-120v-720h720v720H120Zm60-500h600v-160H180v160Zm220 220h160v-160H400v160Zm0 220h160v-160H400v160ZM180-400h160v-160H180v160Zm440 0h160v-160H620v160ZM180-180h160v-160H180v160Zm440 0h160v-160H620v160Z\"/>\n",
              "  </svg>\n",
              "    </button>\n",
              "\n",
              "  <style>\n",
              "    .colab-df-container {\n",
              "      display:flex;\n",
              "      gap: 12px;\n",
              "    }\n",
              "\n",
              "    .colab-df-convert {\n",
              "      background-color: #E8F0FE;\n",
              "      border: none;\n",
              "      border-radius: 50%;\n",
              "      cursor: pointer;\n",
              "      display: none;\n",
              "      fill: #1967D2;\n",
              "      height: 32px;\n",
              "      padding: 0 0 0 0;\n",
              "      width: 32px;\n",
              "    }\n",
              "\n",
              "    .colab-df-convert:hover {\n",
              "      background-color: #E2EBFA;\n",
              "      box-shadow: 0px 1px 2px rgba(60, 64, 67, 0.3), 0px 1px 3px 1px rgba(60, 64, 67, 0.15);\n",
              "      fill: #174EA6;\n",
              "    }\n",
              "\n",
              "    .colab-df-buttons div {\n",
              "      margin-bottom: 4px;\n",
              "    }\n",
              "\n",
              "    [theme=dark] .colab-df-convert {\n",
              "      background-color: #3B4455;\n",
              "      fill: #D2E3FC;\n",
              "    }\n",
              "\n",
              "    [theme=dark] .colab-df-convert:hover {\n",
              "      background-color: #434B5C;\n",
              "      box-shadow: 0px 1px 3px 1px rgba(0, 0, 0, 0.15);\n",
              "      filter: drop-shadow(0px 1px 2px rgba(0, 0, 0, 0.3));\n",
              "      fill: #FFFFFF;\n",
              "    }\n",
              "  </style>\n",
              "\n",
              "    <script>\n",
              "      const buttonEl =\n",
              "        document.querySelector('#df-10cc2646-087c-4b2b-852c-deec460e66cd button.colab-df-convert');\n",
              "      buttonEl.style.display =\n",
              "        google.colab.kernel.accessAllowed ? 'block' : 'none';\n",
              "\n",
              "      async function convertToInteractive(key) {\n",
              "        const element = document.querySelector('#df-10cc2646-087c-4b2b-852c-deec460e66cd');\n",
              "        const dataTable =\n",
              "          await google.colab.kernel.invokeFunction('convertToInteractive',\n",
              "                                                    [key], {});\n",
              "        if (!dataTable) return;\n",
              "\n",
              "        const docLinkHtml = 'Like what you see? Visit the ' +\n",
              "          '<a target=\"_blank\" href=https://colab.research.google.com/notebooks/data_table.ipynb>data table notebook</a>'\n",
              "          + ' to learn more about interactive tables.';\n",
              "        element.innerHTML = '';\n",
              "        dataTable['output_type'] = 'display_data';\n",
              "        await google.colab.output.renderOutput(dataTable, element);\n",
              "        const docLink = document.createElement('div');\n",
              "        docLink.innerHTML = docLinkHtml;\n",
              "        element.appendChild(docLink);\n",
              "      }\n",
              "    </script>\n",
              "  </div>\n",
              "\n",
              "\n",
              "<div id=\"df-7da959af-9ef2-4634-8117-fb339c30db20\">\n",
              "  <button class=\"colab-df-quickchart\" onclick=\"quickchart('df-7da959af-9ef2-4634-8117-fb339c30db20')\"\n",
              "            title=\"Suggest charts\"\n",
              "            style=\"display:none;\">\n",
              "\n",
              "<svg xmlns=\"http://www.w3.org/2000/svg\" height=\"24px\"viewBox=\"0 0 24 24\"\n",
              "     width=\"24px\">\n",
              "    <g>\n",
              "        <path d=\"M19 3H5c-1.1 0-2 .9-2 2v14c0 1.1.9 2 2 2h14c1.1 0 2-.9 2-2V5c0-1.1-.9-2-2-2zM9 17H7v-7h2v7zm4 0h-2V7h2v10zm4 0h-2v-4h2v4z\"/>\n",
              "    </g>\n",
              "</svg>\n",
              "  </button>\n",
              "\n",
              "<style>\n",
              "  .colab-df-quickchart {\n",
              "      --bg-color: #E8F0FE;\n",
              "      --fill-color: #1967D2;\n",
              "      --hover-bg-color: #E2EBFA;\n",
              "      --hover-fill-color: #174EA6;\n",
              "      --disabled-fill-color: #AAA;\n",
              "      --disabled-bg-color: #DDD;\n",
              "  }\n",
              "\n",
              "  [theme=dark] .colab-df-quickchart {\n",
              "      --bg-color: #3B4455;\n",
              "      --fill-color: #D2E3FC;\n",
              "      --hover-bg-color: #434B5C;\n",
              "      --hover-fill-color: #FFFFFF;\n",
              "      --disabled-bg-color: #3B4455;\n",
              "      --disabled-fill-color: #666;\n",
              "  }\n",
              "\n",
              "  .colab-df-quickchart {\n",
              "    background-color: var(--bg-color);\n",
              "    border: none;\n",
              "    border-radius: 50%;\n",
              "    cursor: pointer;\n",
              "    display: none;\n",
              "    fill: var(--fill-color);\n",
              "    height: 32px;\n",
              "    padding: 0;\n",
              "    width: 32px;\n",
              "  }\n",
              "\n",
              "  .colab-df-quickchart:hover {\n",
              "    background-color: var(--hover-bg-color);\n",
              "    box-shadow: 0 1px 2px rgba(60, 64, 67, 0.3), 0 1px 3px 1px rgba(60, 64, 67, 0.15);\n",
              "    fill: var(--button-hover-fill-color);\n",
              "  }\n",
              "\n",
              "  .colab-df-quickchart-complete:disabled,\n",
              "  .colab-df-quickchart-complete:disabled:hover {\n",
              "    background-color: var(--disabled-bg-color);\n",
              "    fill: var(--disabled-fill-color);\n",
              "    box-shadow: none;\n",
              "  }\n",
              "\n",
              "  .colab-df-spinner {\n",
              "    border: 2px solid var(--fill-color);\n",
              "    border-color: transparent;\n",
              "    border-bottom-color: var(--fill-color);\n",
              "    animation:\n",
              "      spin 1s steps(1) infinite;\n",
              "  }\n",
              "\n",
              "  @keyframes spin {\n",
              "    0% {\n",
              "      border-color: transparent;\n",
              "      border-bottom-color: var(--fill-color);\n",
              "      border-left-color: var(--fill-color);\n",
              "    }\n",
              "    20% {\n",
              "      border-color: transparent;\n",
              "      border-left-color: var(--fill-color);\n",
              "      border-top-color: var(--fill-color);\n",
              "    }\n",
              "    30% {\n",
              "      border-color: transparent;\n",
              "      border-left-color: var(--fill-color);\n",
              "      border-top-color: var(--fill-color);\n",
              "      border-right-color: var(--fill-color);\n",
              "    }\n",
              "    40% {\n",
              "      border-color: transparent;\n",
              "      border-right-color: var(--fill-color);\n",
              "      border-top-color: var(--fill-color);\n",
              "    }\n",
              "    60% {\n",
              "      border-color: transparent;\n",
              "      border-right-color: var(--fill-color);\n",
              "    }\n",
              "    80% {\n",
              "      border-color: transparent;\n",
              "      border-right-color: var(--fill-color);\n",
              "      border-bottom-color: var(--fill-color);\n",
              "    }\n",
              "    90% {\n",
              "      border-color: transparent;\n",
              "      border-bottom-color: var(--fill-color);\n",
              "    }\n",
              "  }\n",
              "</style>\n",
              "\n",
              "  <script>\n",
              "    async function quickchart(key) {\n",
              "      const quickchartButtonEl =\n",
              "        document.querySelector('#' + key + ' button');\n",
              "      quickchartButtonEl.disabled = true;  // To prevent multiple clicks.\n",
              "      quickchartButtonEl.classList.add('colab-df-spinner');\n",
              "      try {\n",
              "        const charts = await google.colab.kernel.invokeFunction(\n",
              "            'suggestCharts', [key], {});\n",
              "      } catch (error) {\n",
              "        console.error('Error during call to suggestCharts:', error);\n",
              "      }\n",
              "      quickchartButtonEl.classList.remove('colab-df-spinner');\n",
              "      quickchartButtonEl.classList.add('colab-df-quickchart-complete');\n",
              "    }\n",
              "    (() => {\n",
              "      let quickchartButtonEl =\n",
              "        document.querySelector('#df-7da959af-9ef2-4634-8117-fb339c30db20 button');\n",
              "      quickchartButtonEl.style.display =\n",
              "        google.colab.kernel.accessAllowed ? 'block' : 'none';\n",
              "    })();\n",
              "  </script>\n",
              "</div>\n",
              "    </div>\n",
              "  </div>\n"
            ],
            "text/plain": [
              "         Test    Predictions    Difference\n",
              "175  185000.0  170863.328125  14136.671875\n",
              "176  175000.0  186382.796875 -11382.796875\n",
              "177  210000.0  235995.031250 -25995.031250\n",
              "178  266500.0  189901.718750  76598.281250\n",
              "179  142125.0  120171.468750  21953.531250"
            ]
          },
          "execution_count": 77,
          "metadata": {},
          "output_type": "execute_result"
        }
      ],
      "source": [
        "final=pd.concat([data_verify,Data_predicted],axis=1)\n",
        "final[\"Difference\"]=final[\"Test\"]-final[\"Predictions\"]\n",
        "final.tail()"
      ]
    },
    {
      "cell_type": "code",
      "execution_count": 78,
      "metadata": {
        "id": "jFsvre9oyqoE"
      },
      "outputs": [],
      "source": [
        "torch.save(model,'Houseprice.pt')"
      ]
    },
    {
      "cell_type": "code",
      "execution_count": 79,
      "metadata": {
        "id": "klZ2OO9kzUyA"
      },
      "outputs": [],
      "source": [
        "torch.save(model.state_dict(),'HouseWeights.pt')"
      ]
    },
    {
      "cell_type": "code",
      "execution_count": 80,
      "metadata": {
        "id": "SPtFbjjVzkaC"
      },
      "outputs": [],
      "source": [
        "embs_size=[(15, 8), (5, 3), (2, 1), (4, 2)]\n",
        "model1=FeedForwardNN(embs_size,5,1,[100,50],p=0.4)"
      ]
    },
    {
      "cell_type": "code",
      "execution_count": 82,
      "metadata": {
        "colab": {
          "base_uri": "https://localhost:8080/"
        },
        "id": "SqCf6akYzpV9",
        "outputId": "17a0c655-8846-4dd2-dffa-5a14b762583e"
      },
      "outputs": [
        {
          "data": {
            "text/plain": [
              "<All keys matched successfully>"
            ]
          },
          "execution_count": 82,
          "metadata": {},
          "output_type": "execute_result"
        }
      ],
      "source": [
        "model1.load_state_dict(torch.load('HouseWeights.pt'))"
      ]
    },
    {
      "cell_type": "code",
      "execution_count": 84,
      "metadata": {
        "colab": {
          "base_uri": "https://localhost:8080/"
        },
        "id": "i-MLqodLzz3s",
        "outputId": "5297d62b-b4b1-4c77-a8cd-183bc093b8ff"
      },
      "outputs": [
        {
          "data": {
            "text/plain": [
              "FeedForwardNN(\n",
              "  (embeds): ModuleList(\n",
              "    (0): Embedding(15, 8)\n",
              "    (1): Embedding(5, 3)\n",
              "    (2): Embedding(2, 1)\n",
              "    (3): Embedding(4, 2)\n",
              "  )\n",
              "  (emb_drop): Dropout(p=0.4, inplace=False)\n",
              "  (bn_cont): BatchNorm1d(5, eps=1e-05, momentum=0.1, affine=True, track_running_stats=True)\n",
              "  (layers): Sequential(\n",
              "    (0): Linear(in_features=19, out_features=100, bias=True)\n",
              "    (1): ReLU(inplace=True)\n",
              "    (2): BatchNorm1d(100, eps=1e-05, momentum=0.1, affine=True, track_running_stats=True)\n",
              "    (3): Dropout(p=0.4, inplace=False)\n",
              "    (4): Linear(in_features=100, out_features=50, bias=True)\n",
              "    (5): ReLU(inplace=True)\n",
              "    (6): BatchNorm1d(50, eps=1e-05, momentum=0.1, affine=True, track_running_stats=True)\n",
              "    (7): Dropout(p=0.4, inplace=False)\n",
              "    (8): Linear(in_features=50, out_features=1, bias=True)\n",
              "  )\n",
              ")"
            ]
          },
          "execution_count": 84,
          "metadata": {},
          "output_type": "execute_result"
        }
      ],
      "source": [
        "model1.eval()"
      ]
    },
    {
      "cell_type": "code",
      "execution_count": null,
      "metadata": {
        "id": "U0zxLLKfz3c1"
      },
      "outputs": [],
      "source": []
    }
  ],
  "metadata": {
    "colab": {
      "provenance": []
    },
    "kernelspec": {
      "display_name": "Python 3",
      "name": "python3"
    },
    "language_info": {
      "name": "python"
    }
  },
  "nbformat": 4,
  "nbformat_minor": 0
}
